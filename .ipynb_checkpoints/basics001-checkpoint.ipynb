{
 "cells": [
  {
   "cell_type": "markdown",
   "id": "77e1e05a-ede0-4254-b2e9-3ea606a960bc",
   "metadata": {},
   "source": [
    " Rule Dry = Do not repeat your self"
   ]
  },
  {
   "cell_type": "markdown",
   "id": "95b5dd89-c382-48c2-b009-47ea69f5ab1b",
   "metadata": {},
   "source": [
    "# Introduction to notebook\n",
    "\n",
    "**This is my notebook lesson on how to use jupyter notebook** \n",
    "* print\n",
    "* UserInput\n",
    "* Error\n",
    "* variable\n",
    "* import\n",
    "* basic operations"
   ]
  },
  {
   "cell_type": "markdown",
   "id": "97dd6782-7566-416c-9cab-19d215410a49",
   "metadata": {},
   "source": [
    "* **()parenthesis**\n",
    "* **{}Curly brackets**\n",
    "* **[]Square Brackets**"
   ]
  },
  {
   "cell_type": "markdown",
   "id": "1e5346d2-4c54-473d-8465-506ee50f6c64",
   "metadata": {},
   "source": [
    "**print**\n",
    "\n",
    "print statement is used to display output"
   ]
  },
  {
   "cell_type": "code",
   "execution_count": null,
   "id": "04bf1d40-ad41-451f-9f13-c5ac73311e5e",
   "metadata": {},
   "outputs": [],
   "source": [
    "# Using print statement to print a numeric\n",
    "print(3);"
   ]
  },
  {
   "cell_type": "code",
   "execution_count": null,
   "id": "bb4ab621-449b-40ef-b014-cbaee8bb51ee",
   "metadata": {},
   "outputs": [],
   "source": [
    "# Using print statement to print a string\n",
    "print('This is a python lesson')\n"
   ]
  },
  {
   "cell_type": "code",
   "execution_count": null,
   "id": "906bb2b8-6006-4c89-a937-846c235a44d8",
   "metadata": {},
   "outputs": [],
   "source": [
    "# Print statement using double quotes\n",
    "print(\"This is double quotes\");"
   ]
  },
  {
   "cell_type": "markdown",
   "id": "09abb710-2e9f-454e-bdb0-aa45ed79e908",
   "metadata": {},
   "source": [
    "# User Input\n",
    "\n",
    "A function that takes input from the user"
   ]
  },
  {
   "cell_type": "code",
   "execution_count": null,
   "id": "6c055ae4-bf03-4262-964d-7fbc0d6e80d4",
   "metadata": {},
   "outputs": [],
   "source": [
    "# Takes input from the user\n",
    "input(\"age\")"
   ]
  },
  {
   "cell_type": "code",
   "execution_count": null,
   "id": "8f2135fe-c716-496d-bac5-e5ea960b51d4",
   "metadata": {},
   "outputs": [],
   "source": [
    "# Asks users their name\n",
    "input(\"What is your name?\")"
   ]
  },
  {
   "cell_type": "markdown",
   "id": "fa6b70f7-da0e-4379-8376-fdbf9d3a2825",
   "metadata": {},
   "source": [
    "# Personalised greetings\n",
    "\n",
    "**Instructions**\n",
    "Write a program that takes name from a user and displays the user name with a personalised greeting.\n",
    "\n"
   ]
  },
  {
   "cell_type": "code",
   "execution_count": null,
   "id": "2a0a1ed1-d13c-4053-a6d3-b8209af6da82",
   "metadata": {},
   "outputs": [],
   "source": [
    "# get the users name and a welecome statement\n",
    "print (\"Welcome \" + input(\"What is your name? \") )"
   ]
  },
  {
   "cell_type": "markdown",
   "id": "7827e422-1c03-4f69-a17e-f5886d53e7d9",
   "metadata": {},
   "source": [
    "# Types of Errors\n",
    "\n",
    "* **Semantic error**defintion :occurs when python can't execute the code due to incorrect syntax\n"
   ]
  },
  {
   "cell_type": "code",
   "execution_count": null,
   "id": "ad85aec7-a705-41a5-8e13-ed8d47b1bd4f",
   "metadata": {},
   "outputs": [],
   "source": [
    "print('This is an error\")"
   ]
  },
  {
   "cell_type": "markdown",
   "id": "934e0228-a66e-4708-8dfa-955601f1f783",
   "metadata": {},
   "source": [
    "* **Runtime error**\n",
    "  <P>Happens when we have an incorrect expression that cannot be executed\n",
    "      :10/0</P>"
   ]
  },
  {
   "cell_type": "markdown",
   "id": "9cd23243-1604-44d8-963c-bb43dae0a71c",
   "metadata": {},
   "source": [
    "* **Semantic error**\n",
    "  <P>Program runs without crashing but produces incorrect output.</P>"
   ]
  },
  {
   "cell_type": "markdown",
   "id": "3d068c64-bab6-4fd3-8f1b-90718608a374",
   "metadata": {},
   "source": [
    "# Variables and simple data types\n",
    "\n",
    "<p>A container that holds values or data</p>"
   ]
  },
  {
   "cell_type": "code",
   "execution_count": null,
   "id": "0e7d3320-bc71-439a-a6f5-d87978cd4de5",
   "metadata": {},
   "outputs": [],
   "source": [
    "#Assigning a variavble a value\n",
    "a = 10"
   ]
  },
  {
   "cell_type": "code",
   "execution_count": null,
   "id": "717eb9a9-ff62-4f8b-addd-5edf4649c994",
   "metadata": {},
   "outputs": [],
   "source": [
    "# Display the variable value\n",
    "print(a)"
   ]
  },
  {
   "cell_type": "code",
   "execution_count": null,
   "id": "047e859d-9f32-48ab-9293-4a3c0440bbef",
   "metadata": {},
   "outputs": [],
   "source": [
    "# Assinging a string value to a  vatriable\n",
    "a = \"Name\""
   ]
  },
  {
   "cell_type": "code",
   "execution_count": null,
   "id": "361beb59-fd25-4d64-99a3-789d89e8b7fe",
   "metadata": {},
   "outputs": [],
   "source": [
    "# Display the variable value\n",
    "print(a)"
   ]
  },
  {
   "cell_type": "markdown",
   "id": "71bb7066-db58-4d51-8d5a-a51b56e85c17",
   "metadata": {},
   "source": [
    "# personalized experience\n",
    "\n",
    "**instructions** :Design a  program that asks a user their names and customize a greeting.The program should ask the user their date of birth ad calculate how old they are and present a message to the user of how old they will be 7 years time."
   ]
  },
  {
   "cell_type": "code",
   "execution_count": null,
   "id": "79ee78e5-b0a6-4b5e-95dd-2125fdf37e8b",
   "metadata": {},
   "outputs": [],
   "source": [
    "# receive input user names\n",
    "name = input(\"What is your name ? \")\n",
    "# year of birth\n",
    "date_of_birth = input (\"Which year wear you born? \")\n",
    "# calculate the age based on the date of birth\n",
    "current_age = 2024 - int(date_of_birth)\n",
    "# calculate age in 7 years time\n",
    "future_age = current_age + 7\n",
    "# customized greetings\n",
    "print (f\"Hello {name}\\n how was your day? \")\n",
    "# display users age in seven years time\n",
    "print(f\"Your age in 7 years time will be: {future_age}\")"
   ]
  },
  {
   "cell_type": "markdown",
   "id": "c02cd992-7cfa-40a3-9f59-ae136c7d0b91",
   "metadata": {},
   "source": [
    "# Budget tracker\n",
    "\n",
    "**aim** \n",
    "* create a simple budget tracker program\n"
   ]
  },
  {
   "cell_type": "markdown",
   "id": "83910978-1a56-4ec2-873d-63a5404693f7",
   "metadata": {},
   "source": [
    "**input**\n",
    "* Ask the user to input their total budget for the event.\n",
    "* Allow the user to input the number of expense items they want to track.\n",
    "* For each expense item, ask for the name of the item and its cost\n",
    "  \n",
    "  **Calculations:**\n",
    "* Calculate the total expenses as the user inputs each expense.\n",
    "* Determine how much money remains from the budget after all expenses are\n",
    "added.\n",
    "* Check if the total expenses exceed the budget and indicate whether the user is\n",
    "under or over budget.\n",
    "\n",
    "  **Output:**\n",
    "* Print a summary of all expenses (item names and their costs).\n",
    "* Display the total expenses and the remaining budget.\n",
    "* Indicate if the user is within budget or over budget."
   ]
  },
  {
   "cell_type": "code",
   "execution_count": null,
   "id": "56381832-95b9-48be-a519-99bcbf2b6b29",
   "metadata": {},
   "outputs": [],
   "source": [
    "#Input th etotal budget \n",
    "total_budget = input(\"What is the total budget? \")\n",
    "# Input the no of expenses\n",
    "no_of_expenses = input(\"What is the toatl number of expenses\")\n",
    "# Input the expense items and their price using a loop\n",
    "expense_items = []\n",
    "for i in range(int(no_of_expenses)):\n",
    "    item_name = input(\"Enter the item name : \")\n",
    "    item_cost = input(\"Enter the item cost : \")\n",
    "    expense_items.append([item_name,item_cost])\n",
    "# loop to get total expenses and list of expense details\n",
    "total_expenses = 0\n",
    "expenses_list = []\n",
    "# Loop through the expense items to find the toatl expenses\n",
    "for item_name, item_cost in expense_items:\n",
    "    total_expenses += int(item_cost)\n",
    "    expenses_list.append((item_name, item_cost))\n",
    "# Calculate remaining budget to see if budget is exceeded\n",
    "remaining_budget = int(total_budget) - int(total_expenses)\n",
    "# Output summary of all expenses\n",
    "for item_name, item_cost in expenses_list:\n",
    "    print(f\"{item_name}: ${item_cost}\")\n",
    "    \n",
    "# Output total expenses and remaining budget\n",
    "print(f\"\\nTotal Expenses: ${total_expenses}\")\n",
    "print(f\"Remaining Budget: ${remaining_budget}\")\n",
    "# check if within budget or over budget\n",
    "if int(total_expenses) > int(total_budget):\n",
    "    print(\"You are over budget.\")\n",
    "else:\n",
    "    print(\"You are within budget.\")"
   ]
  },
  {
   "cell_type": "markdown",
   "id": "baa068df-c068-4509-97bd-15fcd32eb26a",
   "metadata": {},
   "source": [
    "# Number guessing game\n",
    "\n",
    "**requirements**\n",
    "* Generate a random number between 1 and 100.\n",
    "* Ask the player to guess the number.\n",
    "* Use if and else statements to provide feedback:\n",
    "* If the guess is lower than the number, print \"Too low! Try again.\"\n",
    "* If the guess is higher than the number, print \"Too high! Try again.\"\n",
    "* If the guess is correct, print \"Congratulations! You've guessed the number!\"\n",
    "* Allow the player to continue guessing until they get it right.\n",
    "* Count and display the number of attempts made by the player."
   ]
  },
  {
   "cell_type": "code",
   "execution_count": 5,
   "id": "99dfb2d7-3085-48ce-bed5-ed774dff8f46",
   "metadata": {},
   "outputs": [
    {
     "name": "stdin",
     "output_type": "stream",
     "text": [
      "Guess the lucky number a number between 1 and 100 ? 35\n"
     ]
    },
    {
     "name": "stdout",
     "output_type": "stream",
     "text": [
      "Too low! Try again.\n"
     ]
    },
    {
     "name": "stdin",
     "output_type": "stream",
     "text": [
      "Guess the lucky number a number between 1 and 100 ? 45\n"
     ]
    },
    {
     "name": "stdout",
     "output_type": "stream",
     "text": [
      "Too high! Try again.\n"
     ]
    },
    {
     "name": "stdin",
     "output_type": "stream",
     "text": [
      "Guess the lucky number a number between 1 and 100 ? 40\n"
     ]
    },
    {
     "name": "stdout",
     "output_type": "stream",
     "text": [
      "Too high! Try again.\n"
     ]
    },
    {
     "name": "stdin",
     "output_type": "stream",
     "text": [
      "Guess the lucky number a number between 1 and 100 ? 37\n"
     ]
    },
    {
     "name": "stdout",
     "output_type": "stream",
     "text": [
      "Too low! Try again.\n"
     ]
    },
    {
     "name": "stdin",
     "output_type": "stream",
     "text": [
      "Guess the lucky number a number between 1 and 100 ? 38\n"
     ]
    },
    {
     "name": "stdout",
     "output_type": "stream",
     "text": [
      "Too low! Try again.\n"
     ]
    },
    {
     "name": "stdin",
     "output_type": "stream",
     "text": [
      "Guess the lucky number a number between 1 and 100 ? 39\n"
     ]
    },
    {
     "name": "stdout",
     "output_type": "stream",
     "text": [
      "Congratulations! You've guessed the number!\n",
      "The player lost this number of lives in game 5\n"
     ]
    }
   ],
   "source": [
    "import random\n",
    "# generate a random correct number\n",
    "correct_number = random.randint(1,100)\n",
    "# giving the user 10 attempts to get the number\n",
    "n = 10\n",
    "count = 0\n",
    "# Loop the number of attempts till user gets the number right\n",
    "for i in range(n):\n",
    "    # guess a number between 1 to 100 user input\n",
    "    player_answer = int(input(\"Guess the lucky number a number between 1 and 100 ?\"))\n",
    "    # To check weather the user has got the number\n",
    "    if player_answer > correct_number :\n",
    "        print(\"Too high! Try again.\")\n",
    "    elif player_answer < correct_number:\n",
    "        print(\"Too low! Try again.\")\n",
    "    else:\n",
    "        print(\"Congratulations! You've guessed the number!\")\n",
    "        break\n",
    "    count += 1\n",
    "# display the number of attempts\n",
    "print(f\"The player lost this number of lives in game {count}\")"
   ]
  },
  {
   "cell_type": "code",
   "execution_count": null,
   "id": "839e25ba-37e9-491f-bfe8-01adfb6ad5e4",
   "metadata": {},
   "outputs": [],
   "source": []
  }
 ],
 "metadata": {
  "kernelspec": {
   "display_name": "Python 3 (ipykernel)",
   "language": "python",
   "name": "python3"
  },
  "language_info": {
   "codemirror_mode": {
    "name": "ipython",
    "version": 3
   },
   "file_extension": ".py",
   "mimetype": "text/x-python",
   "name": "python",
   "nbconvert_exporter": "python",
   "pygments_lexer": "ipython3",
   "version": "3.12.5"
  }
 },
 "nbformat": 4,
 "nbformat_minor": 5
}
