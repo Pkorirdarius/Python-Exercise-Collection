{
 "cells": [
  {
   "cell_type": "markdown",
   "id": "df823ebc-357d-4db0-9f16-fe89001c6349",
   "metadata": {},
   "source": [
    "# User inputs 2 numbers then we get their difference"
   ]
  },
  {
   "cell_type": "code",
   "execution_count": null,
   "id": "e9e923e3-683a-46d6-bf97-68a2d87153aa",
   "metadata": {},
   "outputs": [],
   "source": [
    "# defining a function\n",
    "def difference_of_numbers(num1,num2):\n",
    "    the_diff= num1 - num2\n",
    "    return the_diff\n",
    "# calling the function\n",
    "number1 = int(input(\"Enter the first number for subtraction :\"))\n",
    "number2 = int(input(\"Enter the second number for subtraction :\"))\n",
    "difference_of_numbers(number1,number2)"
   ]
  },
  {
   "cell_type": "markdown",
   "id": "230164dd-4750-4d64-819e-b07e84ca1e01",
   "metadata": {},
   "source": [
    "<p>Write a function called get_data_type() that prompts the user to enter a value. The function should return the data type of the input as a string (e.g., \"int\", \"float\", \"str\", \"list\"). The function should handle the following scenarios:  If the input can be converted to an integer, return \"int\". If the input can be converted to a float, return \"float\". If the input is surrounded by square brackets, treat it as a list and return \"list\". Otherwise, return \"str\" for a string input.</p>"
   ]
  },
  {
   "cell_type": "code",
   "execution_count": null,
   "id": "472b804d-b966-48c8-9f84-4c80eba00952",
   "metadata": {},
   "outputs": [],
   "source": [
    "# defining a function\n",
    "def get_data_type(value):\n",
    "    data_type_of_value = type(value)\n",
    "    return data_type_of_value\n",
    "# Prompt the user to enter a vaule\n",
    "# selecting the data type \n",
    "data_type =input(\"select the datatype of the value your entering \\n1.int\\n 2.float\\n 3.str\\n 4.list\\n\")\n",
    "if data_type == \"1\":\n",
    "    user_value =int(input(\"Enter a value : \"))\n",
    "elif data_type == \"2\":\n",
    "    user_value =float(input(\"Enter a value : \"))\n",
    "elif data_type == \"3\":\n",
    "    user_value =input(\"Enter a value : \")\n",
    "elif data_type == \"4\":\n",
    "    user_value =[input(\"Enter a value : \")]\n",
    "# Calling the function\n",
    "get_data_type(user_value)"
   ]
  },
  {
   "cell_type": "markdown",
   "id": "cfc8d135-95c5-42ad-8933-6c4b79b36ca5",
   "metadata": {},
   "source": [
    "**Objective**\n",
    "<p>Create a calculator program that allows the user to perform mathematical operations on two numbers using basic functions and a dictionary to store the operations. The program should also have the ability to continue calculations with the result of previous calculations.</p>\n",
    "\n",
    "**Instructions**\n",
    "<p>Create four basic mathematical functions: 'add', 'subtract', 'multiply', and 'divide' that take in two numbers and return the result of the operation.\n",
    "Create a dictionary 'operations' that assigns the functions to their corresponding operation symbols.\n",
    "Create a function 'calculator' that prompts the user to input the first number.\n",
    "Use a for loop to print the available operation symbols.\n",
    "Create a while loop that will continue to run until the user chooses to end the current calculation.\n",
    "Inside the while loop, prompt the user to select an operation symbol.\n",
    "Prompt the user to input the second number.\n",
    "Use the dictionary to retrieve the function that corresponds to the selected operation symbol and S </p>"
   ]
  },
  {
   "cell_type": "code",
   "execution_count": null,
   "id": "9d88e440-3701-4e73-a2fd-4731fa02ac9c",
   "metadata": {},
   "outputs": [],
   "source": [
    "# four  mathematical functions:'add', 'subtract', 'multiply', and 'divide'\n",
    "def add(x, y):\n",
    "    return x + y\n",
    "\n",
    "def subtract(x, y):\n",
    "    return x - y\n",
    "\n",
    "def multiply(x, y):\n",
    "    return x * y\n",
    "\n",
    "def divide(x, y):\n",
    "    if y != 0:\n",
    "        return x / y\n",
    "    else:\n",
    "        return \"not divisible by zero\"\n",
    "def square(x,y):\n",
    "    number_1 = x ** 2\n",
    "    number_2 = y ** 2\n",
    "    return number_1,number_2\n",
    "\n",
    "# create a dictionary\n",
    "mathematical_operations = {\n",
    "    '+': add,\n",
    "    '-': subtract,\n",
    "    '*': multiply,\n",
    "    '/': divide,\n",
    "    '**': square\n",
    "}\n",
    "# initializing main function calculator\n",
    "def calculator():\n",
    "    # Prompt for the user to enter the first number\n",
    "    num1 = int(input(\"Enter the first number: \"))\n",
    "\n",
    "    while True:\n",
    "        # Print available operations\n",
    "        print(\"\\nAvailable operations:\")\n",
    "        for symbol in mathematical_operations:\n",
    "            print(symbol + ' ')\n",
    "        # Prompt user to select a mathematical operation\n",
    "        operation = input(\"Select a mathematical operation: \")\n",
    "        # Check if the operation is valid\n",
    "        if operation not in mathematical_operations:\n",
    "            print(\"Invalid operation. Please select a valid operation.\")\n",
    "            continue\n",
    "        # Prompt for the second number\n",
    "        num2 = int(input(\"Enter the next number: \"))\n",
    "        # Retrieve the function and calculate the result\n",
    "        function = mathematical_operations[operation]\n",
    "        # using the selected operation value to assign the values to the function\n",
    "        result = function(num1, num2)\n",
    "        # show the numbers and the operation going to be carries out\n",
    "        print(f\"Result of {num1} {operation} {num2} = {result}\")\n",
    "\n",
    "        # Continue with the result if user wants\n",
    "        cont = input(\"Would you like to continue calculating with the result? (yes/no): \").lower()\n",
    "        if cont == 'yes':\n",
    "            # Continue calculation with the previous result\n",
    "             num1 = result\n",
    "        else:\n",
    "            print(\"Calculation ended.\")\n",
    "            break\n",
    "\n",
    "# calling the function the calculator\n",
    "calculator()"
   ]
  },
  {
   "cell_type": "markdown",
   "id": "68d77e02-5993-41a7-af49-79ac3701b303",
   "metadata": {},
   "source": [
    "<p>Create a Python program that includes the following:  Define a regular function named filter_even_numbers that takes a list of integers as input and returns a list of even numbers using a for loop.  Use a lambda function within the filter() method to achieve the same result in a single line.  Create a list of integers (e.g., [1, 2, 3, 4, 5, 6, 7, 8, 9, 10]).  Call both the regular function and the filter() method with the lambda function to display the results.</p>"
   ]
  },
  {
   "cell_type": "code",
   "execution_count": null,
   "id": "316660be-4311-4896-b061-2d87e5d16c1c",
   "metadata": {},
   "outputs": [],
   "source": [
    "even_number =[]\n",
    "# defining a function\n",
    "def filter_even_numbers():\n",
    "    my_list = [1, 2, 3, 4, 5, 6, 7, 8, 9, 10]\n",
    "    for number in my_list:\n",
    "        even_numbers = lambda number : number % 2 == 0\n",
    "        print(f\"this are the even_numbers : {even_numbers(number)}\")\n",
    "    for number in my_list:\n",
    "        if number & 2 == 0:\n",
    "            even_number.append(number)\n",
    "    print(f\"this are the even_numbers : {even_number}\")\n",
    "filter_even_numbers()"
   ]
  },
  {
   "cell_type": "code",
   "execution_count": null,
   "id": "e6df9bbd-77ff-4a57-b4d7-378c126dda8a",
   "metadata": {},
   "outputs": [],
   "source": [
    "# import a function\n",
    "from cars import car_build as cb\n"
   ]
  },
  {
   "cell_type": "code",
   "execution_count": null,
   "id": "eddfe4d6-0599-4ef5-8b55-1d8dfe0851c2",
   "metadata": {},
   "outputs": [],
   "source": [
    "car = cb('BMW','M5',color = \"Blue\")\n",
    "print(car)"
   ]
  },
  {
   "cell_type": "code",
   "execution_count": null,
   "id": "847dbbc1-40d4-4128-b3c5-3fde850c6bd8",
   "metadata": {},
   "outputs": [],
   "source": [
    "from album import make_album as ma\n"
   ]
  },
  {
   "cell_type": "code",
   "execution_count": null,
   "id": "38640e10-35c5-4f86-bb44-93a0ac9413ec",
   "metadata": {},
   "outputs": [],
   "source": []
  }
 ],
 "metadata": {
  "kernelspec": {
   "display_name": "Python 3 (ipykernel)",
   "language": "python",
   "name": "python3"
  },
  "language_info": {
   "codemirror_mode": {
    "name": "ipython",
    "version": 3
   },
   "file_extension": ".py",
   "mimetype": "text/x-python",
   "name": "python",
   "nbconvert_exporter": "python",
   "pygments_lexer": "ipython3",
   "version": "3.12.5"
  }
 },
 "nbformat": 4,
 "nbformat_minor": 5
}
