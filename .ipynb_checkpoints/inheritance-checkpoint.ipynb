{
 "cells": [
  {
   "cell_type": "markdown",
   "id": "ba1469e9-6018-4a79-a756-dd19d8cb4c99",
   "metadata": {},
   "source": [
    "# inheritance"
   ]
  },
  {
   "cell_type": "code",
   "execution_count": 6,
   "id": "74201b87-024e-4459-a37d-0629d5d7cc8e",
   "metadata": {},
   "outputs": [],
   "source": [
    "# Create a class that houses resturant functions\n",
    "class Resturant :\n",
    "    def __init__(self,restaurant_name,dish):\n",
    "        self.restaurant_name = restaurant_name\n",
    "        self.dish = dish\n",
    "        self.number_served = 0\n",
    "        # \n",
    "    def describe_restaurant(self):\n",
    "        print(f\"Restaurant Name: {self.restaurant_name}\")\n",
    "        print(f\"Cuisine Type: {self.dish}\")\n",
    "        # \n",
    "    def open_restaurant(self):\n",
    "        print(f\"{self.restaurant_name} is now open!\")\n",
    "        # \n",
    "    def set_number_served(self,dishes_served):\n",
    "        self.number_served = dishes_served\n",
    "        print(f\"Number of customers served are : {self.number_served}\")\n",
    "        # \n",
    "    def  increment_number_served(self,customer_served):\n",
    "        self.number_served += customer_served\n",
    "        print(f\"Number of customers served in a day : {self.number_served}\")"
   ]
  },
  {
   "cell_type": "code",
   "execution_count": 7,
   "id": "3046bd72-2133-4a7a-aac1-a3eb20201ed2",
   "metadata": {},
   "outputs": [],
   "source": [
    "# create an instance\n",
    "resturant_one = Resturant('Kempinski Villa Rosa','spanish omlette')"
   ]
  },
  {
   "cell_type": "code",
   "execution_count": 8,
   "id": "a730cc20-b5e6-41bf-bd92-a5de57a25a84",
   "metadata": {},
   "outputs": [],
   "source": [
    "class Supplier(Resturant) :\n",
    "    \"\"\"\n",
    "    A class that restocks food ingredients in resturants \n",
    "    \"\"\"\n",
    "    # defining a function that allows inheritance of fromparent class\n",
    "    def __init__(self,restaurant_name,dish,supplier_name,supplier_main_product,contact_no):\n",
    "        super().__init__(restaurant_name,dish)\n",
    "        self.supplier_name = supplier_name\n",
    "        self.supplier_main_product = supplier_main_product\n",
    "        self.contact_no = contact_no\n",
    "        \n",
    "        # define a function that describes the omain commondity of the suppliers and to which resturant\n",
    "    def supplies_descriptions(self):\n",
    "        print(f\"Restock for : {self.restaurant_name} provided by : {self.supplier_name}\")\n",
    "        print(f\"Main products to restock is: {self.supplier_main_product}\")\n",
    "        print(f\"For more inquires reach out to us via: {self.contact_no}\")\n",
    "    "
   ]
  },
  {
   "cell_type": "code",
   "execution_count": 9,
   "id": "ebbfa626-7171-4c2d-9d86-62604f8431b3",
   "metadata": {},
   "outputs": [],
   "source": [
    "# create\n",
    "supplier_one = Supplier('Kempinski Villa Rosa','spanish omlette','Pilakan Enterprise','ChickenEggs','0720065343')"
   ]
  },
  {
   "cell_type": "code",
   "execution_count": 10,
   "id": "3596fc14-318b-4bbc-a265-5247f89a22a5",
   "metadata": {},
   "outputs": [
    {
     "name": "stdout",
     "output_type": "stream",
     "text": [
      "Restock for : Kempinski Villa Rosa provided by : Pilakan Enterprise\n",
      "Main products to restock is: ChickenEggs\n",
      "For more inquires reach out to us via: 0720065343\n"
     ]
    }
   ],
   "source": [
    "supplier_one.supplies_descriptions()"
   ]
  },
  {
   "cell_type": "code",
   "execution_count": 12,
   "id": "dcb777ae-719c-4522-9e6f-583b218cd4e6",
   "metadata": {},
   "outputs": [
    {
     "name": "stdout",
     "output_type": "stream",
     "text": [
      "Number of customers served are : 2\n"
     ]
    }
   ],
   "source": [
    "supplier_one.set_number_served(2)"
   ]
  },
  {
   "cell_type": "code",
   "execution_count": 13,
   "id": "e8ce683b-1dee-470f-862f-4ded269ddb05",
   "metadata": {},
   "outputs": [
    {
     "name": "stdout",
     "output_type": "stream",
     "text": [
      "Number of customers served in a day : 6\n"
     ]
    }
   ],
   "source": [
    "supplier_one.increment_number_served(4)"
   ]
  },
  {
   "cell_type": "code",
   "execution_count": null,
   "id": "6e08e33e-6a65-416e-90fa-5282efd60c6b",
   "metadata": {},
   "outputs": [],
   "source": []
  }
 ],
 "metadata": {
  "kernelspec": {
   "display_name": "Python 3 (ipykernel)",
   "language": "python",
   "name": "python3"
  },
  "language_info": {
   "codemirror_mode": {
    "name": "ipython",
    "version": 3
   },
   "file_extension": ".py",
   "mimetype": "text/x-python",
   "name": "python",
   "nbconvert_exporter": "python",
   "pygments_lexer": "ipython3",
   "version": "3.12.5"
  }
 },
 "nbformat": 4,
 "nbformat_minor": 5
}
