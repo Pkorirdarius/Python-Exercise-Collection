{
 "cells": [
  {
   "cell_type": "code",
   "execution_count": null,
   "id": "e0aa828b-e7a5-4b9d-b78f-4cb796d4220b",
   "metadata": {},
   "outputs": [],
   "source": [
    "from bank_account_checkpoint import Account"
   ]
  },
  {
   "cell_type": "code",
   "execution_count": null,
   "id": "eb17d2b6-e03e-4d47-9b15-ae28aa7d878b",
   "metadata": {},
   "outputs": [],
   "source": [
    "# Create an instance of the Account class, and assign it to a variable called \"my_account\".\n",
    "my_account = Account('234-657', 50000.0,'Mr.Pilakan')\n",
    "my_account1 = Account('345-867',45000.0,'Mr.Darius')\n",
    "my_account2 = Account('156-865',70000.0,'Mrs.Hilda')\n",
    "# Use the methods of the class to deposit  \n",
    "my_account.deposit(25000.0)\n",
    "my_account1.deposit(10000.0)\n",
    "my_account2.deposit(55000.0)\n",
    "# withdraw money from the account\n",
    "my_account.withdraw(10000.0)\n",
    "my_account1.withdraw(60000.0)\n",
    "my_account2.withdraw(40000.0)\n",
    "# check the account balance\n",
    "my_account.check_balance()\n",
    "my_account1.check_balance()\n",
    "my_account2.check_balance()\n"
   ]
  },
  {
   "cell_type": "code",
   "execution_count": null,
   "id": "895a8012-41d5-4c36-93dd-1955e2b8bf18",
   "metadata": {},
   "outputs": [],
   "source": [
    "my_account3 = Account('234-657',45000.0,'Mr.Einstein')"
   ]
  },
  {
   "cell_type": "code",
   "execution_count": 1,
   "id": "d6f571a4-e47e-4c5a-a012-3acc5471d5ca",
   "metadata": {},
   "outputs": [],
   "source": [
    "# importing relevant library\n",
    "import numpy as np"
   ]
  },
  {
   "cell_type": "code",
   "execution_count": 2,
   "id": "f9122aa0-d4b7-4eb8-8dc3-abd96a28bb3c",
   "metadata": {},
   "outputs": [
    {
     "data": {
      "text/plain": [
       "module"
      ]
     },
     "execution_count": 2,
     "metadata": {},
     "output_type": "execute_result"
    }
   ],
   "source": [
    "# \n",
    "type(np)"
   ]
  },
  {
   "cell_type": "code",
   "execution_count": 3,
   "id": "6129ba15-d675-4f3b-9d09-af4cf3c0e64e",
   "metadata": {},
   "outputs": [],
   "source": [
    "# create a 1d array\n",
    "array = np.array([5,6,3,8])"
   ]
  },
  {
   "cell_type": "code",
   "execution_count": null,
   "id": "c6724810-826e-4a5c-9aa8-3d8137b7b043",
   "metadata": {},
   "outputs": [],
   "source": [
    "type(array)"
   ]
  },
  {
   "cell_type": "code",
   "execution_count": null,
   "id": "209da039-cb1f-4154-9cad-bd9ff5b3102c",
   "metadata": {},
   "outputs": [],
   "source": [
    "new_array = array * 2\n",
    "print(new_array)"
   ]
  },
  {
   "cell_type": "code",
   "execution_count": 4,
   "id": "755c5e89-8993-4cc3-9ed8-ce59edcf2b32",
   "metadata": {},
   "outputs": [],
   "source": [
    "my_array = np.array([[2,4,5,6],[5,6,1,9]])"
   ]
  },
  {
   "cell_type": "code",
   "execution_count": null,
   "id": "1c0b3f11-7801-4cca-944d-e562d7223eab",
   "metadata": {},
   "outputs": [],
   "source": [
    "# checking the rows and columns of a multidimensional array\n",
    "my_array.shape"
   ]
  },
  {
   "cell_type": "code",
   "execution_count": null,
   "id": "8b8c0a9d-cfd5-4fa3-868b-824bbade2e41",
   "metadata": {},
   "outputs": [],
   "source": [
    "my_array[0]"
   ]
  },
  {
   "cell_type": "code",
   "execution_count": null,
   "id": "18a0f164-087f-4b7c-a92f-d7c0fb4fd748",
   "metadata": {},
   "outputs": [],
   "source": [
    "my_array[0,1]"
   ]
  },
  {
   "cell_type": "code",
   "execution_count": null,
   "id": "611f88a6-a44a-4b8f-b992-33bea5be587a",
   "metadata": {},
   "outputs": [],
   "source": [
    "# lock and ilock\n",
    "my_array[:,-1]"
   ]
  },
  {
   "cell_type": "code",
   "execution_count": null,
   "id": "948fdd3b-d639-46fa-8149-e3241ad1bbf2",
   "metadata": {},
   "outputs": [],
   "source": [
    "array2 = array.reshape(2,2)\n",
    "print(array2)"
   ]
  },
  {
   "cell_type": "code",
   "execution_count": null,
   "id": "a12ad66c-bf22-4ad0-81e4-8be95bdaa66a",
   "metadata": {},
   "outputs": [],
   "source": [
    "array2[1,1] = 10\n",
    "print(array2)"
   ]
  },
  {
   "cell_type": "code",
   "execution_count": 5,
   "id": "66d08854-f0a4-4c63-ae87-a495492c8ff0",
   "metadata": {},
   "outputs": [
    {
     "name": "stdout",
     "output_type": "stream",
     "text": [
      "56\n"
     ]
    }
   ],
   "source": [
    "array_arr = np.array([10,56,3,45,23,12])\n",
    "max_number = array_arr.max()\n",
    "print(max_number)"
   ]
  },
  {
   "cell_type": "code",
   "execution_count": 8,
   "id": "7e5fe203-6e12-4126-9e51-9586c0f3186d",
   "metadata": {},
   "outputs": [],
   "source": [
    "array_empt = np.empty(shape=(3,8))"
   ]
  },
  {
   "cell_type": "code",
   "execution_count": 9,
   "id": "7d50d38f-cf55-449f-9071-ca79f1796c4a",
   "metadata": {},
   "outputs": [
    {
     "name": "stdout",
     "output_type": "stream",
     "text": [
      "[[0. 0. 0. 0. 0. 0. 0. 0.]\n",
      " [0. 0. 0. 0. 0. 0. 0. 0.]\n",
      " [0. 0. 0. 0. 0. 0. 0. 0.]]\n"
     ]
    }
   ],
   "source": [
    "print(array_empt)"
   ]
  },
  {
   "cell_type": "code",
   "execution_count": null,
   "id": "70bc2938-f901-4703-8dd7-5c790ee0fc98",
   "metadata": {},
   "outputs": [],
   "source": []
  }
 ],
 "metadata": {
  "kernelspec": {
   "display_name": "Python 3 (ipykernel)",
   "language": "python",
   "name": "python3"
  },
  "language_info": {
   "codemirror_mode": {
    "name": "ipython",
    "version": 3
   },
   "file_extension": ".py",
   "mimetype": "text/x-python",
   "name": "python",
   "nbconvert_exporter": "python",
   "pygments_lexer": "ipython3",
   "version": "3.12.5"
  }
 },
 "nbformat": 4,
 "nbformat_minor": 5
}
