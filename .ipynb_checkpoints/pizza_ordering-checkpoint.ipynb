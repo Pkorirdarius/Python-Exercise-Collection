{
 "cells": [
  {
   "cell_type": "markdown",
   "id": "c75b2d69-4c7f-458c-b25f-8a0106c83b71",
   "metadata": {},
   "source": [
    "# pizza ordering system\n"
   ]
  },
  {
   "cell_type": "markdown",
   "id": "022ebabf-759f-43bd-953e-34a167db95c1",
   "metadata": {},
   "source": [
    "**instructions**\n",
    "``` Small Pizza: $15 ``` \n",
    "\n",
    "``` Medium Pizza: $20 ``` \n",
    "\n",
    "``` Large Pizza: $25 ``` \n",
    "\n",
    "<p>If they want to add pepperoni :</p>\n",
    "\n",
    "``` Pepperoni for Small Pizza: +$2 ``` \n",
    "\n",
    "``` Pepperoni for Medium or Large Pizza: +$3 ```\n",
    "\n",
    "<p>If they want cheese :</p>\n",
    "\n",
    " ``` Extra cheese for any size pizza: + $1 ```"
   ]
  },
  {
   "cell_type": "code",
   "execution_count": null,
   "id": "938ba2d1-abe7-4f25-aa19-f5947df6dffd",
   "metadata": {},
   "outputs": [],
   "source": [
    "# welcoming message to the user\n",
    "print(\"Welcome to Python Pizza Deliveries\")\n",
    "total_cost = 0\n",
    "\n",
    "# Cost for each pizza\n",
    "small_pizza = 15\n",
    "medium_pizza = 20\n",
    "large_pizza = 25\n",
    "\n",
    "# Cost of pepperoni on pizza\n",
    "small_pepperoni = 2\n",
    "medium_large_pepperoni = 3\n",
    "\n",
    "# Cost of extra cheese\n",
    "extra_cheese_cost = 1\n",
    "\n",
    "# Prompt the user to select the size of pizza \n",
    "while True:\n",
    "    # Takes input from the user use list to check for the options selected\n",
    "    size = input(\"What pizza size do you want? \\n Large = L, Medium = M, Small = S \\n\").upper()\n",
    "    if size in ['L', 'M', 'S']:\n",
    "        break\n",
    "        # display invalid option \n",
    "    print(\"Invalid option. Please enter 'L' for Large, 'M' for Medium, or 'S' for Small.\")\n",
    "\n",
    "# Ask the user if they want pepperoni or not \n",
    "while True:\n",
    "    add_pepperoni = input(\"Do you want pepperoni? (Yes = Y, No = N): \").upper()\n",
    "    # list containing valid options\n",
    "    if add_pepperoni in ['Y', 'N']:\n",
    "        break\n",
    "        # display invalid option ask the user to re enter value via loop\n",
    "    print(\"Invalid option. Please enter 'Y' for Yes or 'N' for No.\")\n",
    "\n",
    "# Ask the user if they want extra cheese with validation\n",
    "while True:\n",
    "    extra_cheese = input(\"Do you want extra cheese on it? (Yes = Y, No = N): \").upper()\n",
    "    # list containing valid options\n",
    "    if extra_cheese in ['Y', 'N']:\n",
    "        break\n",
    "        # display invalid option ask the user to re enter value via loop\n",
    "    print(\"Invalid option. Please enter 'Y' for Yes or 'N' for No.\")\n",
    "\n",
    "# Calculate the total cost based on the selections\n",
    "if size == 'L':\n",
    "    total_cost = large_pizza\n",
    "    if add_pepperoni == 'Y':\n",
    "        total_cost += medium_large_pepperoni\n",
    "    if extra_cheese == 'Y':\n",
    "        total_cost += extra_cheese_cost\n",
    "elif size == 'M':\n",
    "    total_cost = medium_pizza\n",
    "    if add_pepperoni == 'Y':\n",
    "        total_cost += medium_large_pepperoni\n",
    "    if extra_cheese == 'Y':\n",
    "        total_cost += extra_cheese_cost\n",
    "elif size == 'S':\n",
    "    total_cost = small_pizza\n",
    "    if add_pepperoni == 'Y':\n",
    "        total_cost += small_pepperoni\n",
    "    if extra_cheese == 'Y':\n",
    "        total_cost += extra_cheese_cost\n",
    "\n",
    "print(f\"Your final bill is: ${total_cost}\")"
   ]
  },
  {
   "cell_type": "code",
   "execution_count": null,
   "id": "31ffa6ee-0c7b-425a-9d4c-449a2aa7165a",
   "metadata": {},
   "outputs": [],
   "source": []
  }
 ],
 "metadata": {
  "kernelspec": {
   "display_name": "Python 3 (ipykernel)",
   "language": "python",
   "name": "python3"
  },
  "language_info": {
   "codemirror_mode": {
    "name": "ipython",
    "version": 3
   },
   "file_extension": ".py",
   "mimetype": "text/x-python",
   "name": "python",
   "nbconvert_exporter": "python",
   "pygments_lexer": "ipython3",
   "version": "3.12.5"
  }
 },
 "nbformat": 4,
 "nbformat_minor": 5
}
