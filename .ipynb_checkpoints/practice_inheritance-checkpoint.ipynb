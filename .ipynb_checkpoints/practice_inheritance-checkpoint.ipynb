{
 "cells": [
  {
   "cell_type": "markdown",
   "id": "f15f3a38-66e0-49d9-ab53-48fae784a7ac",
   "metadata": {},
   "source": [
    "<p>Admin: An administrator is a special kind of user. Write a class called\n",
    "Admin that inherits from the User class you wrote in. Add an attribute, privileges, that stores a list of\n",
    "strings like \"can add post\", \"can delete post\", \"can ban user\", and so on.\n",
    "Write a method called show_privileges() that lists the administrator’s set of\n",
    "privileges. Create an instance of Admin, and call your method.</p>"
   ]
  },
  {
   "cell_type": "code",
   "execution_count": 1,
   "id": "5895435c-9b60-4d4a-af4a-0c4aff7538fc",
   "metadata": {},
   "outputs": [],
   "source": [
    "# create aclass known as user\n",
    "class User :\n",
    "    def __init__(self,first_name,last_name,age,contact_info,gender):\n",
    "        self.first_name = first_name\n",
    "        self.last_name = last_name\n",
    "        self.age = age\n",
    "        self.contact_info = contact_info\n",
    "        self.gender = gender\n",
    "        self.bonus_point = 1 \n",
    "        self.login_attempts = 0\n",
    "        # create a method that dives a description of the user\n",
    "    def describe_user(self):\n",
    "        print(f\"Users first_name is: {self.first_name} and sir name is : {self.last_name}\")\n",
    "        print(f\"user is : {self.age} years old and of gender : {self.gender}\")\n",
    "        print(f\"User can be contacted via : {self.contact_info}\")\n",
    "        # method to greet the user\n",
    "    def greet_user(self):\n",
    "        print(f\"Hello {self.first_name}, we are pleased to have you {self.last_name}\\n\")\n",
    "        # method that shows the users bonus points\n",
    "    def bonus(self):\n",
    "        print(f\"{self.first_name} has the following bonus points : {self.bonus_point}\")\n",
    "        # method that dynamically updates the users bonus points\n",
    "    def update_bonus_point(self,points):\n",
    "        self.bonus_point += points\n",
    "        print(f\"{self.first_name} has the following updated points : {self.bonus_point}\")\n",
    "        # method that increments the login attempts as per login\n",
    "    def  increment_login_attempts(self):\n",
    "        self.login_attempts += 1\n",
    "        print(f\"You have attempted to log in :{self.login_attempts} times\")\n",
    "        # method that resets the login attempts\n",
    "    def  reset_login_attempts(self):\n",
    "        self.login_attempts = 0\n",
    "        print(f\"Please log into your account , you have logged in :{self.login_attempts} times\")"
   ]
  },
  {
   "cell_type": "code",
   "execution_count": 6,
   "id": "5074b98b-d05c-4686-ad2f-21bddc667f8c",
   "metadata": {},
   "outputs": [],
   "source": [
    "class Admin(User):\n",
    "    \"\"\"\n",
    "    Add an attribute, privileges, that stores a list of strings like \"can add post\", \"can delete post\", \"can ban user\", and so on. \n",
    "    Write a method called show_privileges() that lists the administrator’s set of privileges. Create an instance of Admin, and call your method.\n",
    "    \"\"\"\n",
    "    def __init__(self,first_name,last_name,age,contact_info,gender,admin_privileges):\n",
    "        super().__init__(first_name,last_name,age,contact_info,gender)\n",
    "        self.admin_privileges = admin_privileges\n",
    "        \n",
    "    "
   ]
  },
  {
   "cell_type": "code",
   "execution_count": 7,
   "id": "66b1d5b6-67c9-4c2d-92e9-89827b369354",
   "metadata": {},
   "outputs": [],
   "source": [
    "user_one = Admin('Darius','Pilakan',21,'0745303445',\"male\",[\"can add post\",\"can delete post\", \"can ban user\"])"
   ]
  },
  {
   "cell_type": "code",
   "execution_count": 8,
   "id": "6e994c7a-9d59-4698-b1c7-65b4a0f51432",
   "metadata": {},
   "outputs": [
    {
     "name": "stdout",
     "output_type": "stream",
     "text": [
      "The administrator  has the following privileges : \n",
      " :can add post\n",
      " :can delete post\n",
      " :can ban user\n"
     ]
    }
   ],
   "source": [
    "user_one.show_privileges()"
   ]
  },
  {
   "cell_type": "code",
   "execution_count": 5,
   "id": "79e1d242-0712-4994-99a2-4179153719b2",
   "metadata": {},
   "outputs": [
    {
     "name": "stdout",
     "output_type": "stream",
     "text": [
      "Users first_name is: Darius and sir name is : Pilakan\n",
      "user is : 21 years old and of gender : male\n",
      "User can be contacted via : 0745303445\n"
     ]
    }
   ],
   "source": [
    "user_one.describe_user()"
   ]
  },
  {
   "cell_type": "markdown",
   "id": "3decea76-b665-4cda-9ae5-321873757ff6",
   "metadata": {},
   "source": [
    "<p>Privileges: Write a separate Privileges class. The class should have one attribute, privileges, that stores a list of strings as described in Admin. Move the show_privileges() method to this class. Make a Privileges instance as an attribute in the Admin class. Create a new instance of Admin and use your method to show its privileges</p>"
   ]
  },
  {
   "cell_type": "code",
   "execution_count": 12,
   "id": "c50b6a23-b5bd-4578-bbaa-aee9d9daf26b",
   "metadata": {},
   "outputs": [],
   "source": [
    "class Previleges(Admin):\n",
    "    \"\"\"\n",
    "    create a \n",
    "    \"\"\"\n",
    "    def __init__(self,first_name,last_name,age,contact_info,gender,admin_privileges):\n",
    "        super().__init__(first_name,last_name,age,contact_info,gender,admin_privileges)\n",
    "    \n",
    "    def show_privileges(self):\n",
    "        print(f\"The administrator  has the following privileges : \")\n",
    "        for privilege in self.admin_privileges:\n",
    "            print(f\" :{privilege}\")"
   ]
  },
  {
   "cell_type": "code",
   "execution_count": 13,
   "id": "c16c9a37-d2e2-4cf3-a9a1-c22447ac4281",
   "metadata": {},
   "outputs": [],
   "source": [
    "admin_one = Previleges('Darius','Pilakan',21,'0745303445',\"male\",[\"can add post\",\"can delete post\", \"can ban user\"])"
   ]
  },
  {
   "cell_type": "code",
   "execution_count": 14,
   "id": "8dc85184-13b5-4a20-aad6-997a6c2c6a9f",
   "metadata": {},
   "outputs": [
    {
     "name": "stdout",
     "output_type": "stream",
     "text": [
      "The administrator  has the following privileges : \n",
      " :can add post\n",
      " :can delete post\n",
      " :can ban user\n"
     ]
    }
   ],
   "source": [
    "admin_one.show_privileges()"
   ]
  },
  {
   "cell_type": "code",
   "execution_count": null,
   "id": "8469eed7-9223-442f-bb7c-15e730f39940",
   "metadata": {},
   "outputs": [],
   "source": []
  }
 ],
 "metadata": {
  "kernelspec": {
   "display_name": "Python 3 (ipykernel)",
   "language": "python",
   "name": "python3"
  },
  "language_info": {
   "codemirror_mode": {
    "name": "ipython",
    "version": 3
   },
   "file_extension": ".py",
   "mimetype": "text/x-python",
   "name": "python",
   "nbconvert_exporter": "python",
   "pygments_lexer": "ipython3",
   "version": "3.12.5"
  }
 },
 "nbformat": 4,
 "nbformat_minor": 5
}
