{
 "cells": [
  {
   "cell_type": "markdown",
   "id": "b266c7cf-ce40-466a-ba40-d14338feef1b",
   "metadata": {},
   "source": [
    "# Python introduction"
   ]
  },
  {
   "cell_type": "markdown",
   "id": "2b8cd98e-168b-4fc8-a341-9f3775fad1cf",
   "metadata": {},
   "source": [
    "## Python Syntax"
   ]
  },
  {
   "cell_type": "code",
   "execution_count": null,
   "id": "3d7c5bc7-bc25-4088-ab46-96edae1d62fb",
   "metadata": {},
   "outputs": [],
   "source": [
    "# print statement\n",
    "print(\"Hello world!\")"
   ]
  },
  {
   "cell_type": "code",
   "execution_count": null,
   "id": "7fe8bb17-a02f-4515-a4e9-884193eb0de3",
   "metadata": {},
   "outputs": [],
   "source": [
    "# printing multiple print statements\n",
    "print (\"School : GO MY CODE\")\n",
    "print (\"Course : Data science\")\n",
    "print (\"python\")"
   ]
  },
  {
   "cell_type": "code",
   "execution_count": null,
   "id": "fd4848c2-a337-44e2-b067-ec6a02c1c68a",
   "metadata": {},
   "outputs": [],
   "source": [
    "# printing on a new line using \\n\n",
    "print (\"Hello \\ndata science\")"
   ]
  },
  {
   "cell_type": "code",
   "execution_count": null,
   "id": "bce3b05d-9af9-4ccc-be42-f2145e0fb0ac",
   "metadata": {},
   "outputs": [],
   "source": [
    "# print numeric value\n",
    "print ( 6 )\n",
    "print ( 5.6)\n",
    "print( \"pi\" )\n",
    "print (3.142)"
   ]
  },
  {
   "cell_type": "code",
   "execution_count": null,
   "id": "268bcbf6-258f-41b8-bfac-96e0515dc2c5",
   "metadata": {},
   "outputs": [],
   "source": [
    "print(8 + 5) \n",
    "2 + 4"
   ]
  },
  {
   "cell_type": "code",
   "execution_count": null,
   "id": "8dbb708e-5da0-4c0c-b393-d66513ae4916",
   "metadata": {},
   "outputs": [],
   "source": [
    "input(\"What is your name?\")"
   ]
  },
  {
   "cell_type": "code",
   "execution_count": null,
   "id": "6bb314be-79e6-425b-8192-82944a04c9a2",
   "metadata": {},
   "outputs": [],
   "source": [
    "input(\"What is your name? \")\n",
    "input(\"What is your age? \")"
   ]
  },
  {
   "cell_type": "code",
   "execution_count": null,
   "id": "4f1b6fcd-dd33-4e95-bedf-25bf3780d317",
   "metadata": {},
   "outputs": [],
   "source": [
    "print (input(\"What is your name? \"))\n",
    "print(input(\"What is your age? \"))"
   ]
  },
  {
   "cell_type": "markdown",
   "id": "e6b68d49-f447-485e-8488-26e143c79675",
   "metadata": {},
   "source": [
    "# Greeting Program"
   ]
  },
  {
   "cell_type": "markdown",
   "id": "3f7bd074-8800-49dc-8882-eadd2ef53c11",
   "metadata": {},
   "source": [
    "## Objective: Create a friendly program that greets the user by name.\n",
    "\n",
    "**Instructions:**\n",
    "\n",
    "* Ask for Name: Use input to ask the user for their name.\n",
    "* Personalized Greeting: Print a welcoming message that includes their name.\n",
    "* Additional Engagement: Ask them how they are feeling today and print a message based on their answer."
   ]
  },
  {
   "cell_type": "code",
   "execution_count": null,
   "id": "789bbd67-d1fa-4947-93e0-25947e877e49",
   "metadata": {},
   "outputs": [],
   "source": [
    "# taking the input (names ) of users\n",
    "name = input(\"Enter your name? \")\n",
    "# Displaying the name and a welcome message\n",
    "print(\"Welcome \" + name )\n",
    "# Additional engement by asking how they feel and how was their day\n",
    "status = input(\"How are you feeling today? \")\n",
    "if (status == \"fine\"):\n",
    "    print(\"great.\")\n",
    "else:\n",
    "    print(\"Not everyday is awesome.\")"
   ]
  },
  {
   "cell_type": "markdown",
   "id": "ef509ac7-8811-48f8-9629-3a84adb90249",
   "metadata": {},
   "source": [
    "# Simple Recipe\n",
    "\n",
    "## Objective: Encourage creativity by suggesting a recipe based on user inputs.\n",
    "\n",
    "**Instructions:**\n",
    "\n",
    "* Ingredient Input: Ask the user for two ingredients they have at home.\n",
    "* Recipe Suggestion: Print a creative dish idea using those ingredients.\n",
    "* Further Exploration: Encourage them to think of how they would prepare it."
   ]
  },
  {
   "cell_type": "code",
   "execution_count": 4,
   "id": "da815bc7-2bdc-4870-a161-667e7898a378",
   "metadata": {},
   "outputs": [
    {
     "name": "stdout",
     "output_type": "stream",
     "text": [
      "State 2 ingredients for a recommended recipe\n"
     ]
    },
    {
     "name": "stdin",
     "output_type": "stream",
     "text": [
      "What is the first ingredient?  garlic\n",
      "What is the second ingredient?  black pepper\n"
     ]
    },
    {
     "name": "stdout",
     "output_type": "stream",
     "text": [
      "The ingredients can be used to make fish curry garlic we dice it up and black pepper season on the fish\n",
      "How best can it be prepared?\n"
     ]
    }
   ],
   "source": [
    "# Input 2 ingredients at home\n",
    "print (\"State 2 ingredients for a recommended recipe\")\n",
    "recipe1 = input(\"What is the first ingredient? \")\n",
    "recipe2 = input(\"What is the second ingredient? \")\n",
    "# Print a creative dish idea based on the two ingedients\n",
    "if (recipe1 == recipe2):\n",
    "    print(\"We will grill \" + recipe1 + \"Or we'll stew \" + recipe2)\n",
    "else :\n",
    "    print (\"The ingredients can be used to make fish curry \" + recipe1 + \" we dice it up and \" + recipe2 + \" season on the fish\" )\n",
    "# encourage them to think of how it can be prepared\n",
    "print(\"How best can it be prepared?\")"
   ]
  },
  {
   "cell_type": "code",
   "execution_count": null,
   "id": "f3dce48c-d4ff-405f-8089-f1b04d0d903c",
   "metadata": {},
   "outputs": [],
   "source": []
  }
 ],
 "metadata": {
  "kernelspec": {
   "display_name": "Python 3 (ipykernel)",
   "language": "python",
   "name": "python3"
  },
  "language_info": {
   "codemirror_mode": {
    "name": "ipython",
    "version": 3
   },
   "file_extension": ".py",
   "mimetype": "text/x-python",
   "name": "python",
   "nbconvert_exporter": "python",
   "pygments_lexer": "ipython3",
   "version": "3.12.5"
  }
 },
 "nbformat": 4,
 "nbformat_minor": 5
}
