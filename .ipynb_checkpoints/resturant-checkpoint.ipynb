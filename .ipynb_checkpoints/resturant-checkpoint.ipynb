{
 "cells": [
  {
   "cell_type": "markdown",
   "id": "4e93fa19-cff1-483d-85e3-c73313c33e64",
   "metadata": {},
   "source": [
    "<p>Restaurant: Make a class called Restaurant. The _init_() method for\n",
    "Restaurant should store two attributes: a restaurant_name and a cuisine_type.\n",
    "Make a method called describe_restaurant() that prints these two pieces of\n",
    "information, and a method called open_restaurant() that prints a message indi-\n",
    "cating that the restaurant is open.\n",
    "Make an instance called restaurant from your class. Print the two attri-\n",
    "butes individually, and then call both methods.</p>"
   ]
  },
  {
   "cell_type": "code",
   "execution_count": null,
   "id": "302fcdc9-0689-4a62-874b-0a0e18836583",
   "metadata": {},
   "outputs": [],
   "source": [
    "# Create a class that houses resturant functions\n",
    "class Resturant :\n",
    "    def __init__(self,restaurant_name,dish):\n",
    "        self.restaurant_name = restaurant_name\n",
    "        self.dish = dish\n",
    "    def describe_restaurant(self):\n",
    "        print(f\"Restaurant Name: {self.restaurant_name}\")\n",
    "        print(f\"Cuisine Type: {self.dish}\")\n",
    "    def open_restaurant(self):\n",
    "        print(f\"{self.restaurant_name} is now open!\")\n"
   ]
  },
  {
   "cell_type": "code",
   "execution_count": null,
   "id": "e2ce234a-6b6a-4174-b581-f9398204bd17",
   "metadata": {},
   "outputs": [],
   "source": [
    "# Creating an instance\n",
    "resturant_1 = Resturant('Kempinski','omena')\n",
    "resturant_2 = Resturant('Arabian Place','platter')\n",
    "\n",
    "resturant_1.describe_restaurant()\n",
    "resturant_1.open_restaurant()   \n",
    "resturant_2.describe_restaurant()\n",
    "resturant_2.open_restaurant()  "
   ]
  },
  {
   "cell_type": "markdown",
   "id": "d84d1c22-08ba-48b0-9a9b-68d7bdadaeb3",
   "metadata": {},
   "source": [
    "<p>Users: Make a class called User. Create two attributes called first_name and last_name, and then create several other attributes that are typically stored in a user profile. Make a method called describe_user() that prints a summary of the user’s information. Make another method called greet_user() that prints a personalized greeting to the user. Create several instances representing different users, and call both meth- ods for each user</p>"
   ]
  },
  {
   "cell_type": "code",
   "execution_count": 9,
   "id": "e9b7b2bc-95ec-4a27-ab76-8ad62e035250",
   "metadata": {},
   "outputs": [],
   "source": [
    "# create aclass known as user\n",
    "class User :\n",
    "    def __init__(self,first_name,last_name,age,contact_info,gender):\n",
    "        self.first_name = first_name\n",
    "        self.last_name = last_name\n",
    "        self.age = age\n",
    "        self.contact_info = contact_info\n",
    "        self.gender = gender\n",
    "        self.bonus_point = 1 \n",
    "        # create a method that dives a description of the user\n",
    "    def describe_user(self):\n",
    "        print(f\"Users first_name is: {self.first_name} and sir name is : {self.last_name}\")\n",
    "        print(f\"user is : {self.age} years old and of gender : {self.gender}\")\n",
    "        print(f\"User can be contacted via : {self.contact_info}\")\n",
    "        # method to greet the user\n",
    "    def greet_user(self):\n",
    "        print(f\"Hello {self.first_name}, we are pleased to have you {self.last_name}\\n\")\n",
    "        \n",
    "    def bonus(self):\n",
    "        print(f\"{self.first_name} has the following bonus points : {self.bonus_point}\")\n",
    "        \n",
    "    def update_bonus_point(self,points):\n",
    "        self.bonus_point += points\n",
    "        print(f\"{self.first_name} has the following updated points : {self.bonus_point}\")"
   ]
  },
  {
   "cell_type": "code",
   "execution_count": 10,
   "id": "000d9c1f-9f66-4ce4-b1d1-bb3768c0dfd8",
   "metadata": {},
   "outputs": [
    {
     "name": "stdout",
     "output_type": "stream",
     "text": [
      "Users first_name is: Darius and sir name is : Pilakan\n",
      "user is : 21 years old and of gender : male\n",
      "User can be contacted via : pkorirdarius@gmail.com\n",
      "Hello Darius, we are pleased to have you Pilakan\n",
      "\n",
      "Users first_name is: Ammy and sir name is : Luve\n",
      "user is : 20 years old and of gender : female\n",
      "User can be contacted via : amandaluve@gmail.com\n",
      "Hello Ammy, we are pleased to have you Luve\n",
      "\n",
      "Users first_name is: Allan and sir name is : Masibo\n",
      "user is : 24 years old and of gender : Transformer😂\n",
      "User can be contacted via : masibo2.0@gmail.com\n",
      "Hello Allan, we are pleased to have you Masibo\n",
      "\n"
     ]
    }
   ],
   "source": [
    "# creating an instance\n",
    "user_one = User('Darius','Pilakan', 21 , 'pkorirdarius@gmail.com','male')\n",
    "user_two = User('Ammy','Luve', 20 , 'amandaluve@gmail.com','female')\n",
    "user_three = User('Allan','Masibo', 24 , 'masibo2.0@gmail.com','Transformer😂')\n",
    "\n",
    "user_one.describe_user()\n",
    "user_one.greet_user()\n",
    "user_two.describe_user()\n",
    "user_two.greet_user()\n",
    "user_three.describe_user()\n",
    "user_three.greet_user()"
   ]
  },
  {
   "cell_type": "code",
   "execution_count": 11,
   "id": "7c4c0317-3525-4e25-85ea-ec3b7c2117dc",
   "metadata": {},
   "outputs": [
    {
     "name": "stdout",
     "output_type": "stream",
     "text": [
      "Darius has the following bonus points : 1\n"
     ]
    }
   ],
   "source": [
    "user_one.bonus()"
   ]
  },
  {
   "cell_type": "code",
   "execution_count": null,
   "id": "fce666ec-7999-4924-8457-c0a4d6889729",
   "metadata": {},
   "outputs": [],
   "source": [
    "user_one.bonus = 20"
   ]
  },
  {
   "cell_type": "code",
   "execution_count": 12,
   "id": "a7737d34-dd9c-4629-94be-dee09823f0ff",
   "metadata": {},
   "outputs": [
    {
     "name": "stdout",
     "output_type": "stream",
     "text": [
      "Darius has the following updated points : 6\n"
     ]
    }
   ],
   "source": [
    "user_one.update_bonus_point(5)"
   ]
  },
  {
   "cell_type": "code",
   "execution_count": null,
   "id": "baa1814e-fe77-489d-a773-6df0826ef82a",
   "metadata": {},
   "outputs": [],
   "source": []
  }
 ],
 "metadata": {
  "kernelspec": {
   "display_name": "Python 3 (ipykernel)",
   "language": "python",
   "name": "python3"
  },
  "language_info": {
   "codemirror_mode": {
    "name": "ipython",
    "version": 3
   },
   "file_extension": ".py",
   "mimetype": "text/x-python",
   "name": "python",
   "nbconvert_exporter": "python",
   "pygments_lexer": "ipython3",
   "version": "3.12.5"
  }
 },
 "nbformat": 4,
 "nbformat_minor": 5
}
