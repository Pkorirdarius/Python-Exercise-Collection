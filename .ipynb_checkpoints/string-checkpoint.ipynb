{
 "cells": [
  {
   "cell_type": "markdown",
   "id": "49166ece-e830-45f1-a6b1-bb6706e08195",
   "metadata": {},
   "source": [
    "# data type\n",
    "* String\n",
    "* int\n",
    "* boolean\n",
    "* float"
   ]
  },
  {
   "cell_type": "markdown",
   "id": "0deada81-9caf-4e3d-bcff-a3c65e341e9d",
   "metadata": {},
   "source": [
    "# Strings"
   ]
  },
  {
   "cell_type": "code",
   "execution_count": null,
   "id": "cc0d9283-100e-4fe2-8352-c097e1d6e225",
   "metadata": {},
   "outputs": [],
   "source": [
    "name = \" data science \"\n",
    "# String method\n",
    "name.rsplit()"
   ]
  },
  {
   "cell_type": "code",
   "execution_count": null,
   "id": "44eb117c-c800-4512-8bb5-e65bb57650c5",
   "metadata": {},
   "outputs": [],
   "source": [
    "name.capitalize()"
   ]
  },
  {
   "cell_type": "code",
   "execution_count": null,
   "id": "8c5e5cf7-fcda-4d0b-89b6-3013d33b4bd4",
   "metadata": {},
   "outputs": [],
   "source": [
    "name.lower()"
   ]
  },
  {
   "cell_type": "code",
   "execution_count": null,
   "id": "cd6e9d62-8093-49ab-8e46-b5df8ea17078",
   "metadata": {},
   "outputs": [],
   "source": [
    "name.rstrip()"
   ]
  },
  {
   "cell_type": "code",
   "execution_count": null,
   "id": "ec643692-3dca-4f4a-be29-1b1d5a09460d",
   "metadata": {},
   "outputs": [],
   "source": [
    "name.lstrip()"
   ]
  },
  {
   "cell_type": "code",
   "execution_count": null,
   "id": "d35e0268-d37d-4f44-aae4-d4367d0196a5",
   "metadata": {},
   "outputs": [],
   "source": [
    "# counting\n",
    "name.count('a')"
   ]
  },
  {
   "cell_type": "code",
   "execution_count": null,
   "id": "96057ebf-fa5d-47a3-9e4e-1d3a2e47eb8e",
   "metadata": {},
   "outputs": [],
   "source": [
    "# replace\n",
    "name.replace(\"data\",\"computer\")"
   ]
  },
  {
   "cell_type": "code",
   "execution_count": null,
   "id": "d2838f5e-4d0e-4442-9d96-14f44ecf479d",
   "metadata": {},
   "outputs": [],
   "source": [
    "student = \"Darius\"\n",
    "school = \"Go my code\"\n",
    "# String formating\n",
    "print(\"I am {} taking data science at {}\".format(student,school))"
   ]
  },
  {
   "cell_type": "markdown",
   "id": "a01016eb-b4fa-4823-950e-1ea56b1a1618",
   "metadata": {},
   "source": [
    "# Mystery String Decoder\n",
    "\n",
    "**Instructions:**\n",
    " * Input: Ask the user to input a string. This string will be considered a \"mystery string.\"\n",
    "* Transformations: Implement the following transformations on the string:\n",
    " <p> Reversal: Reverse the string.</p>\n",
    " <p>Case Swap: Change all uppercase letters to lowercase and vice versa.</p>\n",
    " <p>Vowel Removal: Remove all vowels (a, e, i, o, u) from the string.</p>\n",
    " <p> Character Count: Count how many times each character appears in the original</p>\n",
    "string (excluding vowels).\n",
    "\n",
    "* Output: Display each transformation and the character count in a user-friendly format.\n",
    "\n",
    "* user keys in a string to choose a transformation to occur on a particular string"
   ]
  },
  {
   "cell_type": "code",
   "execution_count": null,
   "id": "d7ce8472-8d2f-40e9-8eff-e906f0b91ed7",
   "metadata": {},
   "outputs": [],
   "source": [
    "# Imported counter\n",
    "from collections import Counter\n",
    "# Prompt user to enter the mystery string\n",
    "mystery_string = input(\"Enter any string : \")\n",
    "vowels = \"aeiouAEIOU\"\n",
    "# allowing the user to select which transformation to occur\n",
    "transformation = input(\"Choose a transformation to occur from this: \\nreverse = r,\\ncaseswap = c,\\nvowelremoval = v,\\ncharacter_count_without_vowels = ch\\n\")\n",
    "#selection of desired transformation using if...elif stattement\n",
    "if (transformation == \"r\"):\n",
    "    print(\"You selected the reverse tranformation: \\n\")\n",
    "    # Reverse string\n",
    "    reverse_string =''.join(reversed(mystery_string))\n",
    "    print(reverse_string)\n",
    "elif (transformation == \"c\"):\n",
    "    print(\"You selected the case swap tranformation: \\n\")\n",
    "    # Case swap\n",
    "    print(mystery_string.swapcase())\n",
    "elif (transformation == \"v\"):\n",
    "    print(\"You selected the vowel removal tranformation: \\n\")\n",
    "    # Vowel removal\n",
    "    vowels = \"aeiouAEIOU\"\n",
    "    results = ''.join(filter(lambda char: char not in vowels,mystery_string))\n",
    "    print(f\" Output without vowels{results}\")\n",
    "elif (transformation == \"ch\"):\n",
    "    print(\"You selected the character count without vowels tranformation: \\n\")\n",
    "    # character count without vowels\n",
    "    character_count =''.join(filter(lambda char:char not in vowels,mystery_string))\n",
    "    # using counter and display output\n",
    "    character_counter = Counter(character_count)\n",
    "    # Printing the count and character on separate lines\n",
    "    for char, count in character_counter.items():\n",
    "        print(f\"{char}:{count * '*'}\")\n",
    " "
   ]
  },
  {
   "cell_type": "code",
   "execution_count": null,
   "id": "07f26eb7-5538-49f8-a119-70ffb8465c09",
   "metadata": {},
   "outputs": [],
   "source": [
    "print(\"* \"* 2)"
   ]
  },
  {
   "cell_type": "code",
   "execution_count": null,
   "id": "ef331629-b0a5-4ffe-973d-95e5fdc4746f",
   "metadata": {},
   "outputs": [],
   "source": [
    "print('*** ** ***' * 5)"
   ]
  },
  {
   "cell_type": "markdown",
   "id": "b64d1343-0020-4f33-b8f9-d52eb9034390",
   "metadata": {},
   "source": [
    "#  Data structures\n"
   ]
  },
  {
   "cell_type": "markdown",
   "id": "9fb240b6-30e0-4c98-8fd3-77437b8b74fe",
   "metadata": {},
   "source": [
    "* list\n",
    "* Dictionary\n",
    "* tuple\n",
    "* set"
   ]
  },
  {
   "cell_type": "markdown",
   "id": "bbc04886-e9be-4a4d-ae83-6d91080c32a2",
   "metadata": {},
   "source": [
    "**list**"
   ]
  },
  {
   "cell_type": "code",
   "execution_count": null,
   "id": "68dc3074-80ac-4f02-90a2-e9b5310965a7",
   "metadata": {},
   "outputs": [],
   "source": [
    "# list\n",
    "my_list = [23,\"Data\",True,3.142]"
   ]
  },
  {
   "cell_type": "code",
   "execution_count": null,
   "id": "528acaa4-92ce-4d1c-82e5-707e5d28a997",
   "metadata": {},
   "outputs": [],
   "source": [
    "type(my_list)"
   ]
  },
  {
   "cell_type": "code",
   "execution_count": null,
   "id": "e2a9059b-89c3-41bb-a67e-5179eba69194",
   "metadata": {},
   "outputs": [],
   "source": [
    "# Accessing element at index 1\n",
    "my_list[1]"
   ]
  },
  {
   "cell_type": "code",
   "execution_count": null,
   "id": "b2b70855-cb01-4b11-b2e2-609eac0e956f",
   "metadata": {},
   "outputs": [],
   "source": [
    "# list with similar elements of the same data type\n",
    "other_list = [22,34,45,34,23,18,98]\n",
    "# ordering a list\n",
    "other_list.sort()\n",
    "print(other_list)"
   ]
  },
  {
   "cell_type": "code",
   "execution_count": null,
   "id": "905947af-c23e-4a30-9f22-91287b186d9b",
   "metadata": {},
   "outputs": [],
   "source": [
    "# list manipulation:add\n",
    "other_list1 = other_list.append(35)"
   ]
  },
  {
   "cell_type": "code",
   "execution_count": null,
   "id": "0a9d9d52-fa80-483e-ba8c-8f6d4a0c66e6",
   "metadata": {},
   "outputs": [],
   "source": [
    "print(other_list)"
   ]
  },
  {
   "cell_type": "code",
   "execution_count": null,
   "id": "c8f7e235-3f1a-41ff-b8a7-1efd6e5795f2",
   "metadata": {},
   "outputs": [],
   "source": [
    "# create a new list\n",
    "new_list = [11,11,22,22,33,44,22]"
   ]
  },
  {
   "cell_type": "code",
   "execution_count": null,
   "id": "695e0b68-3ffe-48ae-8efd-1e05d423cd09",
   "metadata": {},
   "outputs": [],
   "source": [
    "# list mapulation\n",
    "new_list.pop()"
   ]
  },
  {
   "cell_type": "markdown",
   "id": "6022e22b-6f59-4f8f-bdb0-a66a101f4431",
   "metadata": {},
   "source": [
    "# List Algorithm"
   ]
  },
  {
   "cell_type": "code",
   "execution_count": 8,
   "id": "e57f184f-d035-4d6d-a204-ebd1fa515af5",
   "metadata": {},
   "outputs": [
    {
     "name": "stdin",
     "output_type": "stream",
     "text": [
      "What is your name ?  Darius\n"
     ]
    },
    {
     "name": "stdout",
     "output_type": "stream",
     "text": [
      "welcome Darius to our online shop.\n"
     ]
    },
    {
     "name": "stdin",
     "output_type": "stream",
     "text": [
      "Select the how you what to edit the list: \n",
      "1.remove item from list = r,\n",
      "2.Add item to list = a \n",
      "3.display items in the list = d \n",
      "4.Sort Items in the list alphabetically = s\n",
      " d\n"
     ]
    },
    {
     "name": "stdout",
     "output_type": "stream",
     "text": [
      "The list is empty\n"
     ]
    },
    {
     "name": "stdin",
     "output_type": "stream",
     "text": [
      "Enter the name of the item to check if it's in the list.  apple\n"
     ]
    },
    {
     "name": "stdout",
     "output_type": "stream",
     "text": [
      "Item isn't on the list\n"
     ]
    }
   ],
   "source": [
    "# create a list\n",
    "shopping_list = []\n",
    "# prompt user to key in their name\n",
    "name = input(\"What is your name ? \")\n",
    "# personalised greetings\n",
    "print(f\"welcome {name} to our online shop.\")\n",
    "# Selecting how to edit the list\n",
    "edit = input(\"Select the how you what to edit the list: \\n1.remove item from list = r,\\n2.Add item to list = a \\n3.display items in the list = d \\n4.Sort Items in the list alphabetically = s\\n\").lower()\n",
    "# If elif statement to determine how the user wants to edit the list\n",
    "if (edit == \"r\"):\n",
    "    # removing item from list\n",
    "    removing_item = input(\"Enter the item you want to remove from the list : \").split()\n",
    "    for item in removing_item:\n",
    "        if item in shopping_list:\n",
    "            shopping_list.remove(item)\n",
    "            print(f\"{removing_item} has been removed from the list\")\n",
    "        else:\n",
    "            print(f\"{removing_item} not found in the list\")\n",
    "elif(edit == \"a\"):\n",
    "    # Adding an item to the list\n",
    "    add_item = input(\"Add an item to shopping cart : \").split(\", \")\n",
    "    shopping_list.extend(add_item)\n",
    "elif(edit == \"d\"):\n",
    "    # display current shopping list\n",
    "    number_in_list = len(shopping_list)\n",
    "    if (number_in_list == 0):\n",
    "        print(\"The list is empty\")\n",
    "    else:\n",
    "        print(f\"This are the items in the shopping cart :{shopping_list}\")\n",
    "elif(edit == \"s\"):\n",
    "    # Sorting in alphabetical order of the list\n",
    "    shopping_list.sort()\n",
    "else:\n",
    "        print(\"No such option exists\")\n",
    "# check if item is in the list\n",
    "confirming_item = input(\"Enter the name of the item to check if it's in the list. \")\n",
    "if confirming_item in shopping_list:\n",
    "    print(f\"{confirming_item} is already in the list\")\n",
    "else :\n",
    "    print(\"Item isn't on the list\")"
   ]
  },
  {
   "cell_type": "code",
   "execution_count": null,
   "id": "82c2ecbe-06ef-4bcd-a92c-d93f8a458567",
   "metadata": {},
   "outputs": [],
   "source": []
  }
 ],
 "metadata": {
  "kernelspec": {
   "display_name": "Python 3 (ipykernel)",
   "language": "python",
   "name": "python3"
  },
  "language_info": {
   "codemirror_mode": {
    "name": "ipython",
    "version": 3
   },
   "file_extension": ".py",
   "mimetype": "text/x-python",
   "name": "python",
   "nbconvert_exporter": "python",
   "pygments_lexer": "ipython3",
   "version": "3.12.5"
  }
 },
 "nbformat": 4,
 "nbformat_minor": 5
}
