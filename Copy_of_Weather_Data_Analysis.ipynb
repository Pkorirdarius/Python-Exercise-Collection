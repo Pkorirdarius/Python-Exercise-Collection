{
  "nbformat": 4,
  "nbformat_minor": 0,
  "metadata": {
    "colab": {
      "provenance": [],
      "include_colab_link": true
    },
    "kernelspec": {
      "name": "python3",
      "display_name": "Python 3"
    },
    "language_info": {
      "name": "python"
    }
  },
  "cells": [
    {
      "cell_type": "markdown",
      "metadata": {
        "id": "view-in-github",
        "colab_type": "text"
      },
      "source": [
        "<a href=\"https://colab.research.google.com/github/Pkorirdarius/Python-Exercise-Collection/blob/master/Copy_of_Weather_Data_Analysis.ipynb\" target=\"_parent\"><img src=\"https://colab.research.google.com/assets/colab-badge.svg\" alt=\"Open In Colab\"/></a>"
      ]
    },
    {
      "cell_type": "markdown",
      "source": [
        "### **Project Title: Weather Data Analysis**\n",
        "\n",
        "#### **Overview**\n",
        "Create a Python program to analyze a small dataset of daily weather readings. The project is designed to help students apply basic Python concepts while performing simple data analysis. By the end of the project, students will have built a script that reads data, performs statistical calculations, and uses control flow to generate a brief summary report.\n",
        "\n",
        "#### **Objectives**\n",
        "- **Python Basics:** Reinforce the use of variables, arithmetic operations, functions, loops, and conditional statements.\n",
        "- **Data Manipulation:** Introduce students to reading data from a CSV file and basic data cleaning.\n",
        "- **Statistical Analysis:** Calculate descriptive statistics (e.g., mean, min, max temperatures).\n",
        "- **Decision-Making:** Use control flow to interpret results and provide a text-based summary.\n",
        "\n",
        "#### **Project Tasks**\n",
        "\n",
        "1. **Dataset Preparation**\n",
        "   - **Provided Data:** Supply a simple CSV file (e.g., `weather_data.csv`) with columns such as `Date` and `Temperature`. (Optionally, include columns like `City` if you wish to add an extra dimension.)\n",
        "   - **Example Data Format:**\n",
        "     ```\n",
        "     Date,Temperature\n",
        "     2025-01-01,5\n",
        "     2025-01-02,7\n",
        "     2025-01-03,6\n",
        "     2025-01-04,8\n",
        "     2025-01-05,5\n",
        "     ```\n",
        "   - Students can also be encouraged to generate their own sample data if a CSV file is not provided.\n",
        "\n",
        "2. **Data Loading and Cleaning**\n",
        "   - Use Python’s built-in `csv` module (or simply file I/O and string splitting) to read the CSV file.\n",
        "   - Store the temperature values in a list and convert them to a numeric type.\n",
        "   - Implement basic error checking. For example, if a row is missing a temperature value, use control flow (an `if` statement) to either skip the row or assign a default value.\n",
        "\n",
        "3. **Descriptive Statistics**\n",
        "   - **Variables & Math Operations:**  \n",
        "     Use variables to store counts, totals, and other computed values.\n",
        "   - **Functions:**  \n",
        "     Write separate functions to compute:\n",
        "     - **Mean Temperature:** Sum all temperature values and divide by the count.\n",
        "     - **Minimum and Maximum:** Traverse the list with a loop to find the smallest and largest values.\n",
        "     - **Standard Deviation (Optional Challenge):** Provide an extra function that calculates the standard deviation.\n",
        "   - **Example Function Signature:**\n",
        "     ```python\n",
        "     def calculate_mean(temps):\n",
        "         total = sum(temps)\n",
        "         count = len(temps)\n",
        "         return total / count if count != 0 else None\n",
        "     ```\n",
        "\n",
        "4. **Control Flow for Reporting**\n",
        "   - After computing the basic statistics, use conditional statements (`if`, `else`) to generate a summary report. For example:\n",
        "     - If the average temperature is above a certain threshold, print a message like “It’s been a warm week.”\n",
        "     - Otherwise, print “The week has been relatively cool.”\n",
        "   - Use loops (like `for` loops) to print out day-by-day temperature information along with any anomalies (e.g., days when the temperature was unusually high or low).\n",
        "\n",
        "5. **Optional Enhancements**\n",
        "   - **Data Visualization:**  \n",
        "     Introduce a simple plotting library like `matplotlib` to create a basic line chart of temperature over time.\n",
        "   - **User Input:**  \n",
        "     Allow the user to specify a temperature threshold for generating custom messages.\n",
        "   - **Modular Design:**  into\n",
        "     Break the project  multiple functions/modules to promote code reusability.\n",
        "\n",
        "#### **Deliverables**\n",
        "- A well-commented step by step Python program that:\n",
        "  - Reads and cleans the dataset.\n",
        "  - Computes descriptive statistics using defined functions.\n",
        "  - Uses loops and conditionals to generate a summary report.\n",
        "- (Optional) A plotted graph saved as an image file (e.g., `temperature_trend.png`).\n",
        "\n"
      ],
      "metadata": {
        "id": "ejUsWsQu_xMN"
      }
    },
    {
      "cell_type": "code",
      "execution_count": null,
      "metadata": {
        "id": "S4ujIWNk_tfI"
      },
      "outputs": [],
      "source": [
        "import csv\n",
        "import math\n",
        "\n",
        "# specify the file_path\n",
        "file_path = 'weather_data.csv'\n",
        "\n",
        "temperature_data = []\n",
        "date = []\n",
        "# skips the header\n",
        "with open(file_path, 'r') as file:\n",
        "    data = csv.DictReader(file)\n",
        "    for row in data:\n",
        "      if len(row) < 2 or row['Temperature'] == '':\n",
        "        continue\n",
        "      try:\n",
        "        temperature_data.append(float(row['Temperature']))\n",
        "        date.append(row['Date'])\n",
        "      except:\n",
        "        continue\n"
      ]
    },
    {
      "cell_type": "code",
      "source": [
        "# Statistical analysis\n",
        "# mean temperature\n",
        "def mean_temperature(temperature_data):\n",
        "  total = sum(temperature_data)\n",
        "  count = len(temperature_data)\n",
        "  return total / count if count != 0 else None\n",
        "# min and maximum using a loop to find the smallest and largest values\n",
        "def min_max_temperature(temperature_data):\n",
        "  min_temp = temperature_data[0]\n",
        "  max_temp = temperature_data[0]\n",
        "  for temp in range(len(temperature_data)):\n",
        "    if min_temp > temperature_data[temp]:\n",
        "      min_temp = temperature_data[temp]\n",
        "    if max_temp < temperature_data[temp]:\n",
        "      max_temp = temperature_data[temp]\n",
        "  return min_temp, max_temp\n",
        "# standard deviation\n",
        "def standard_deviation(temperature_data):\n",
        "  mean = mean_temperature(temperature_data)\n",
        "  variance = sum((x - mean) ** 2 for x in temperature_data) / len(temperature_data)\n",
        "  return math.sqrt(variance)"
      ],
      "metadata": {
        "colab": {
          "base_uri": "https://localhost:8080/"
        },
        "id": "qBApCVb-Lo81",
        "outputId": "3b3bebc6-1c59-4b3a-e13d-044e5f358584"
      },
      "execution_count": null,
      "outputs": [
        {
          "output_type": "execute_result",
          "data": {
            "text/plain": [
              "(1.0, 100.0)"
            ]
          },
          "metadata": {},
          "execution_count": 13
        }
      ]
    },
    {
      "cell_type": "code",
      "source": [
        "# control flow"
      ],
      "metadata": {
        "colab": {
          "base_uri": "https://localhost:8080/"
        },
        "id": "rGuagutdXSJ5",
        "outputId": "58a61c63-31b1-4d4e-8c7e-79a4bb128c55"
      },
      "execution_count": null,
      "outputs": [
        {
          "output_type": "stream",
          "name": "stdout",
          "text": [
            "100.0\n",
            "1.0\n"
          ]
        }
      ]
    },
    {
      "cell_type": "code",
      "source": [],
      "metadata": {
        "id": "acPtHS7UbTWC"
      },
      "execution_count": null,
      "outputs": []
    }
  ]
}