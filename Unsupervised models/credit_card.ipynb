{
 "cells": [
  {
   "cell_type": "code",
   "execution_count": 18,
   "id": "90353dd8-8204-4c9d-aa8b-806c771fa2ff",
   "metadata": {},
   "outputs": [],
   "source": [
    "import pandas as pd\n",
    "import matplotlib.pyplot as plt\n",
    "from sklearn.preprocessing import StandardScaler\n",
    "from scipy.cluster.hierarchy import dendrogram, linkage\n",
    "from sklearn.cluster import KMeans\n",
    "from sklearn.metrics import silhouette_score\n",
    "\n",
    "# from sklearn.preprocessing import LabelEncoder\n"
   ]
  },
  {
   "cell_type": "code",
   "execution_count": 2,
   "id": "5e1e9365-ea48-46c5-b801-0b0a2759793c",
   "metadata": {},
   "outputs": [
    {
     "data": {
      "text/html": [
       "<div>\n",
       "<style scoped>\n",
       "    .dataframe tbody tr th:only-of-type {\n",
       "        vertical-align: middle;\n",
       "    }\n",
       "\n",
       "    .dataframe tbody tr th {\n",
       "        vertical-align: top;\n",
       "    }\n",
       "\n",
       "    .dataframe thead th {\n",
       "        text-align: right;\n",
       "    }\n",
       "</style>\n",
       "<table border=\"1\" class=\"dataframe\">\n",
       "  <thead>\n",
       "    <tr style=\"text-align: right;\">\n",
       "      <th></th>\n",
       "      <th>CUST_ID</th>\n",
       "      <th>BALANCE_FREQUENCY</th>\n",
       "      <th>PURCHASES</th>\n",
       "      <th>PAYMENTS</th>\n",
       "      <th>CREDIT_LIMIT</th>\n",
       "      <th>CASH_ADVANCE</th>\n",
       "    </tr>\n",
       "  </thead>\n",
       "  <tbody>\n",
       "    <tr>\n",
       "      <th>0</th>\n",
       "      <td>C10001</td>\n",
       "      <td>0.818182</td>\n",
       "      <td>95.40</td>\n",
       "      <td>201.802084</td>\n",
       "      <td>1000.0</td>\n",
       "      <td>0.000000</td>\n",
       "    </tr>\n",
       "    <tr>\n",
       "      <th>1</th>\n",
       "      <td>C10002</td>\n",
       "      <td>0.909091</td>\n",
       "      <td>0.00</td>\n",
       "      <td>4103.032597</td>\n",
       "      <td>7000.0</td>\n",
       "      <td>6442.945483</td>\n",
       "    </tr>\n",
       "    <tr>\n",
       "      <th>2</th>\n",
       "      <td>C10003</td>\n",
       "      <td>1.000000</td>\n",
       "      <td>773.17</td>\n",
       "      <td>622.066742</td>\n",
       "      <td>7500.0</td>\n",
       "      <td>0.000000</td>\n",
       "    </tr>\n",
       "    <tr>\n",
       "      <th>3</th>\n",
       "      <td>C10004</td>\n",
       "      <td>0.636364</td>\n",
       "      <td>1499.00</td>\n",
       "      <td>0.000000</td>\n",
       "      <td>7500.0</td>\n",
       "      <td>205.788017</td>\n",
       "    </tr>\n",
       "    <tr>\n",
       "      <th>4</th>\n",
       "      <td>C10005</td>\n",
       "      <td>1.000000</td>\n",
       "      <td>16.00</td>\n",
       "      <td>678.334763</td>\n",
       "      <td>1200.0</td>\n",
       "      <td>0.000000</td>\n",
       "    </tr>\n",
       "  </tbody>\n",
       "</table>\n",
       "</div>"
      ],
      "text/plain": [
       "  CUST_ID  BALANCE_FREQUENCY  PURCHASES     PAYMENTS  CREDIT_LIMIT  \\\n",
       "0  C10001           0.818182      95.40   201.802084        1000.0   \n",
       "1  C10002           0.909091       0.00  4103.032597        7000.0   \n",
       "2  C10003           1.000000     773.17   622.066742        7500.0   \n",
       "3  C10004           0.636364    1499.00     0.000000        7500.0   \n",
       "4  C10005           1.000000      16.00   678.334763        1200.0   \n",
       "\n",
       "   CASH_ADVANCE  \n",
       "0      0.000000  \n",
       "1   6442.945483  \n",
       "2      0.000000  \n",
       "3    205.788017  \n",
       "4      0.000000  "
      ]
     },
     "execution_count": 2,
     "metadata": {},
     "output_type": "execute_result"
    }
   ],
   "source": [
    "# specify the file_path\n",
    "file_path = \"./Credit_card_dataset.csv\"\n",
    "# read the csv file\n",
    "df = pd.read_csv(file_path)\n",
    "df.head()"
   ]
  },
  {
   "cell_type": "code",
   "execution_count": 3,
   "id": "9a03ed00-3cb1-4acc-a7c0-d2215126f363",
   "metadata": {},
   "outputs": [
    {
     "data": {
      "text/plain": [
       "CUST_ID              0\n",
       "BALANCE_FREQUENCY    0\n",
       "PURCHASES            0\n",
       "PAYMENTS             0\n",
       "CREDIT_LIMIT         1\n",
       "CASH_ADVANCE         0\n",
       "dtype: int64"
      ]
     },
     "execution_count": 3,
     "metadata": {},
     "output_type": "execute_result"
    }
   ],
   "source": [
    "df.isnull().sum()"
   ]
  },
  {
   "cell_type": "code",
   "execution_count": 4,
   "id": "9ad4cbb6-9592-4232-a54b-81f2a809bf09",
   "metadata": {},
   "outputs": [
    {
     "data": {
      "text/html": [
       "<div>\n",
       "<style scoped>\n",
       "    .dataframe tbody tr th:only-of-type {\n",
       "        vertical-align: middle;\n",
       "    }\n",
       "\n",
       "    .dataframe tbody tr th {\n",
       "        vertical-align: top;\n",
       "    }\n",
       "\n",
       "    .dataframe thead th {\n",
       "        text-align: right;\n",
       "    }\n",
       "</style>\n",
       "<table border=\"1\" class=\"dataframe\">\n",
       "  <thead>\n",
       "    <tr style=\"text-align: right;\">\n",
       "      <th></th>\n",
       "      <th>BALANCE_FREQUENCY</th>\n",
       "      <th>PURCHASES</th>\n",
       "      <th>PAYMENTS</th>\n",
       "      <th>CREDIT_LIMIT</th>\n",
       "      <th>CASH_ADVANCE</th>\n",
       "    </tr>\n",
       "  </thead>\n",
       "  <tbody>\n",
       "    <tr>\n",
       "      <th>count</th>\n",
       "      <td>8950.000000</td>\n",
       "      <td>8950.000000</td>\n",
       "      <td>8950.000000</td>\n",
       "      <td>8949.000000</td>\n",
       "      <td>8950.000000</td>\n",
       "    </tr>\n",
       "    <tr>\n",
       "      <th>mean</th>\n",
       "      <td>0.877271</td>\n",
       "      <td>1003.204834</td>\n",
       "      <td>1733.143852</td>\n",
       "      <td>4494.449450</td>\n",
       "      <td>978.871112</td>\n",
       "    </tr>\n",
       "    <tr>\n",
       "      <th>std</th>\n",
       "      <td>0.236904</td>\n",
       "      <td>2136.634782</td>\n",
       "      <td>2895.063757</td>\n",
       "      <td>3638.815725</td>\n",
       "      <td>2097.163877</td>\n",
       "    </tr>\n",
       "    <tr>\n",
       "      <th>min</th>\n",
       "      <td>0.000000</td>\n",
       "      <td>0.000000</td>\n",
       "      <td>0.000000</td>\n",
       "      <td>50.000000</td>\n",
       "      <td>0.000000</td>\n",
       "    </tr>\n",
       "    <tr>\n",
       "      <th>25%</th>\n",
       "      <td>0.888889</td>\n",
       "      <td>39.635000</td>\n",
       "      <td>383.276166</td>\n",
       "      <td>1600.000000</td>\n",
       "      <td>0.000000</td>\n",
       "    </tr>\n",
       "    <tr>\n",
       "      <th>50%</th>\n",
       "      <td>1.000000</td>\n",
       "      <td>361.280000</td>\n",
       "      <td>856.901546</td>\n",
       "      <td>3000.000000</td>\n",
       "      <td>0.000000</td>\n",
       "    </tr>\n",
       "    <tr>\n",
       "      <th>75%</th>\n",
       "      <td>1.000000</td>\n",
       "      <td>1110.130000</td>\n",
       "      <td>1901.134317</td>\n",
       "      <td>6500.000000</td>\n",
       "      <td>1113.821139</td>\n",
       "    </tr>\n",
       "    <tr>\n",
       "      <th>max</th>\n",
       "      <td>1.000000</td>\n",
       "      <td>49039.570000</td>\n",
       "      <td>50721.483360</td>\n",
       "      <td>30000.000000</td>\n",
       "      <td>47137.211760</td>\n",
       "    </tr>\n",
       "  </tbody>\n",
       "</table>\n",
       "</div>"
      ],
      "text/plain": [
       "       BALANCE_FREQUENCY     PURCHASES      PAYMENTS  CREDIT_LIMIT  \\\n",
       "count        8950.000000   8950.000000   8950.000000   8949.000000   \n",
       "mean            0.877271   1003.204834   1733.143852   4494.449450   \n",
       "std             0.236904   2136.634782   2895.063757   3638.815725   \n",
       "min             0.000000      0.000000      0.000000     50.000000   \n",
       "25%             0.888889     39.635000    383.276166   1600.000000   \n",
       "50%             1.000000    361.280000    856.901546   3000.000000   \n",
       "75%             1.000000   1110.130000   1901.134317   6500.000000   \n",
       "max             1.000000  49039.570000  50721.483360  30000.000000   \n",
       "\n",
       "       CASH_ADVANCE  \n",
       "count   8950.000000  \n",
       "mean     978.871112  \n",
       "std     2097.163877  \n",
       "min        0.000000  \n",
       "25%        0.000000  \n",
       "50%        0.000000  \n",
       "75%     1113.821139  \n",
       "max    47137.211760  "
      ]
     },
     "execution_count": 4,
     "metadata": {},
     "output_type": "execute_result"
    }
   ],
   "source": [
    "df.describe()"
   ]
  },
  {
   "cell_type": "code",
   "execution_count": 5,
   "id": "1c2ee379-a58a-4606-8618-6d0d2afc8de2",
   "metadata": {},
   "outputs": [
    {
     "name": "stdout",
     "output_type": "stream",
     "text": [
      "<class 'pandas.core.frame.DataFrame'>\n",
      "RangeIndex: 8950 entries, 0 to 8949\n",
      "Data columns (total 6 columns):\n",
      " #   Column             Non-Null Count  Dtype  \n",
      "---  ------             --------------  -----  \n",
      " 0   CUST_ID            8950 non-null   object \n",
      " 1   BALANCE_FREQUENCY  8950 non-null   float64\n",
      " 2   PURCHASES          8950 non-null   float64\n",
      " 3   PAYMENTS           8950 non-null   float64\n",
      " 4   CREDIT_LIMIT       8949 non-null   float64\n",
      " 5   CASH_ADVANCE       8950 non-null   float64\n",
      "dtypes: float64(5), object(1)\n",
      "memory usage: 419.7+ KB\n"
     ]
    }
   ],
   "source": [
    "df.info()"
   ]
  },
  {
   "cell_type": "code",
   "execution_count": 6,
   "id": "4fc28735-203c-48a1-9e8b-eeef6b26fbd8",
   "metadata": {},
   "outputs": [
    {
     "data": {
      "text/plain": [
       "CUST_ID              0\n",
       "BALANCE_FREQUENCY    0\n",
       "PURCHASES            0\n",
       "PAYMENTS             0\n",
       "CREDIT_LIMIT         0\n",
       "CASH_ADVANCE         0\n",
       "dtype: int64"
      ]
     },
     "execution_count": 6,
     "metadata": {},
     "output_type": "execute_result"
    }
   ],
   "source": [
    "# There is a missing value in the  credit limit column\n",
    "df = df.fillna(df[\"CREDIT_LIMIT\"].mean(numeric_only=True))\n",
    "df.isnull().sum()"
   ]
  },
  {
   "cell_type": "code",
   "execution_count": 7,
   "id": "49612e22-3483-4097-877a-da39554eefcb",
   "metadata": {},
   "outputs": [
    {
     "data": {
      "text/plain": [
       "np.int64(0)"
      ]
     },
     "execution_count": 7,
     "metadata": {},
     "output_type": "execute_result"
    }
   ],
   "source": [
    "df.duplicated().sum()"
   ]
  },
  {
   "cell_type": "code",
   "execution_count": null,
   "id": "972fa88c-87ce-4eb9-a298-ad4978cfead7",
   "metadata": {},
   "outputs": [],
   "source": [
    "# # Encoding the customer Id\n",
    "# label_encoder = LabelEncoder()\n",
    "# df[\"CUST_ID\"] = label_encoder.fit_transform(df[\"CUST_ID\"])\n",
    "# df[\"CUST_ID\"]"
   ]
  },
  {
   "cell_type": "code",
   "execution_count": 8,
   "id": "d5f0f6b4-9b40-41ca-8397-fcc794b923a6",
   "metadata": {},
   "outputs": [
    {
     "data": {
      "text/html": [
       "<div>\n",
       "<style scoped>\n",
       "    .dataframe tbody tr th:only-of-type {\n",
       "        vertical-align: middle;\n",
       "    }\n",
       "\n",
       "    .dataframe tbody tr th {\n",
       "        vertical-align: top;\n",
       "    }\n",
       "\n",
       "    .dataframe thead th {\n",
       "        text-align: right;\n",
       "    }\n",
       "</style>\n",
       "<table border=\"1\" class=\"dataframe\">\n",
       "  <thead>\n",
       "    <tr style=\"text-align: right;\">\n",
       "      <th></th>\n",
       "      <th>BALANCE_FREQUENCY</th>\n",
       "      <th>CASH_ADVANCE</th>\n",
       "      <th>CREDIT_LIMIT</th>\n",
       "      <th>CUST_ID</th>\n",
       "      <th>PAYMENTS</th>\n",
       "      <th>PURCHASES</th>\n",
       "    </tr>\n",
       "  </thead>\n",
       "  <tbody>\n",
       "    <tr>\n",
       "      <th>0</th>\n",
       "      <td>0.818182</td>\n",
       "      <td>0.000000</td>\n",
       "      <td>1000.0</td>\n",
       "      <td>C10001</td>\n",
       "      <td>201.802084</td>\n",
       "      <td>95.40</td>\n",
       "    </tr>\n",
       "    <tr>\n",
       "      <th>2</th>\n",
       "      <td>1.000000</td>\n",
       "      <td>0.000000</td>\n",
       "      <td>7500.0</td>\n",
       "      <td>C10003</td>\n",
       "      <td>622.066742</td>\n",
       "      <td>773.17</td>\n",
       "    </tr>\n",
       "    <tr>\n",
       "      <th>4</th>\n",
       "      <td>1.000000</td>\n",
       "      <td>0.000000</td>\n",
       "      <td>1200.0</td>\n",
       "      <td>C10005</td>\n",
       "      <td>678.334763</td>\n",
       "      <td>16.00</td>\n",
       "    </tr>\n",
       "    <tr>\n",
       "      <th>5</th>\n",
       "      <td>1.000000</td>\n",
       "      <td>0.000000</td>\n",
       "      <td>1800.0</td>\n",
       "      <td>C10006</td>\n",
       "      <td>1400.057770</td>\n",
       "      <td>1333.28</td>\n",
       "    </tr>\n",
       "    <tr>\n",
       "      <th>7</th>\n",
       "      <td>1.000000</td>\n",
       "      <td>0.000000</td>\n",
       "      <td>2300.0</td>\n",
       "      <td>C10008</td>\n",
       "      <td>679.065082</td>\n",
       "      <td>436.20</td>\n",
       "    </tr>\n",
       "    <tr>\n",
       "      <th>...</th>\n",
       "      <td>...</td>\n",
       "      <td>...</td>\n",
       "      <td>...</td>\n",
       "      <td>...</td>\n",
       "      <td>...</td>\n",
       "      <td>...</td>\n",
       "    </tr>\n",
       "    <tr>\n",
       "      <th>8944</th>\n",
       "      <td>0.833333</td>\n",
       "      <td>0.000000</td>\n",
       "      <td>4000.0</td>\n",
       "      <td>C19185</td>\n",
       "      <td>0.000000</td>\n",
       "      <td>1012.73</td>\n",
       "    </tr>\n",
       "    <tr>\n",
       "      <th>8945</th>\n",
       "      <td>1.000000</td>\n",
       "      <td>0.000000</td>\n",
       "      <td>1000.0</td>\n",
       "      <td>C19186</td>\n",
       "      <td>325.594462</td>\n",
       "      <td>291.12</td>\n",
       "    </tr>\n",
       "    <tr>\n",
       "      <th>8946</th>\n",
       "      <td>1.000000</td>\n",
       "      <td>0.000000</td>\n",
       "      <td>1000.0</td>\n",
       "      <td>C19187</td>\n",
       "      <td>275.861322</td>\n",
       "      <td>300.00</td>\n",
       "    </tr>\n",
       "    <tr>\n",
       "      <th>8947</th>\n",
       "      <td>0.833333</td>\n",
       "      <td>0.000000</td>\n",
       "      <td>1000.0</td>\n",
       "      <td>C19188</td>\n",
       "      <td>81.270775</td>\n",
       "      <td>144.40</td>\n",
       "    </tr>\n",
       "    <tr>\n",
       "      <th>8948</th>\n",
       "      <td>0.833333</td>\n",
       "      <td>36.558778</td>\n",
       "      <td>500.0</td>\n",
       "      <td>C19189</td>\n",
       "      <td>52.549959</td>\n",
       "      <td>0.00</td>\n",
       "    </tr>\n",
       "  </tbody>\n",
       "</table>\n",
       "<p>5620 rows × 6 columns</p>\n",
       "</div>"
      ],
      "text/plain": [
       "      BALANCE_FREQUENCY  CASH_ADVANCE  CREDIT_LIMIT CUST_ID     PAYMENTS  \\\n",
       "0              0.818182      0.000000        1000.0  C10001   201.802084   \n",
       "2              1.000000      0.000000        7500.0  C10003   622.066742   \n",
       "4              1.000000      0.000000        1200.0  C10005   678.334763   \n",
       "5              1.000000      0.000000        1800.0  C10006  1400.057770   \n",
       "7              1.000000      0.000000        2300.0  C10008   679.065082   \n",
       "...                 ...           ...           ...     ...          ...   \n",
       "8944           0.833333      0.000000        4000.0  C19185     0.000000   \n",
       "8945           1.000000      0.000000        1000.0  C19186   325.594462   \n",
       "8946           1.000000      0.000000        1000.0  C19187   275.861322   \n",
       "8947           0.833333      0.000000        1000.0  C19188    81.270775   \n",
       "8948           0.833333     36.558778         500.0  C19189    52.549959   \n",
       "\n",
       "      PURCHASES  \n",
       "0         95.40  \n",
       "2        773.17  \n",
       "4         16.00  \n",
       "5       1333.28  \n",
       "7        436.20  \n",
       "...         ...  \n",
       "8944    1012.73  \n",
       "8945     291.12  \n",
       "8946     300.00  \n",
       "8947     144.40  \n",
       "8948       0.00  \n",
       "\n",
       "[5620 rows x 6 columns]"
      ]
     },
     "execution_count": 8,
     "metadata": {},
     "output_type": "execute_result"
    }
   ],
   "source": [
    "# no duplicate values\n",
    "# Handling outliers\n",
    "lower_limit = df.quantile(0.25, numeric_only=True)\n",
    "upper_limit = df.quantile(0.75, numeric_only=True)\n",
    "Inter_quantile_range = upper_limit - lower_limit\n",
    "\n",
    "lower_bound = lower_limit - 1.5 * Inter_quantile_range\n",
    "upper_bound = upper_limit + 1.5 * Inter_quantile_range\n",
    "f_filtered, lower_bound = df.align(lower_bound, axis=1, copy=False)\n",
    "df_filtered, upper_bound = df.align(upper_bound, axis=1, copy=False)\n",
    "\n",
    "# Remove outliers\n",
    "df_cleaned = df_filtered[~((df_filtered < lower_bound) | (df_filtered > upper_bound)).any(axis=1)]\n",
    "df_cleaned"
   ]
  },
  {
   "cell_type": "code",
   "execution_count": 9,
   "id": "7b81ad3a-7daa-4a86-9561-08b9407e06b2",
   "metadata": {},
   "outputs": [],
   "source": [
    "# hierachial clustering\n",
    "# selecting 2 features for clustering\n",
    "features = df[['PURCHASES', 'CREDIT_LIMIT']]\n",
    "scaler = StandardScaler()\n",
    "scaled_features = scaler.fit_transform(features)\n"
   ]
  },
  {
   "cell_type": "code",
   "execution_count": 10,
   "id": "12660bbf-40ca-4d1f-bb4e-70f46af4ba1d",
   "metadata": {},
   "outputs": [
    {
     "data": {
      "image/png": "[encoded data removed]",
      "text/plain": [
       "<Figure size 1000x500 with 1 Axes>"
      ]
     },
     "metadata": {},
     "output_type": "display_data"
    }
   ],
   "source": [
    "linked = linkage(scaled_features, method='ward')\n",
    "plt.figure(figsize=(10, 5))\n",
    "dendrogram(linked)\n",
    "plt.title(\"Dendrogram for Hierarchical Clustering\")\n",
    "plt.show()"
   ]
  },
  {
   "cell_type": "code",
   "execution_count": 13,
   "id": "5c6c751c-9175-43ae-aa75-ce397eab5b99",
   "metadata": {},
   "outputs": [],
   "source": [
    "# Kmeans clustering\n",
    "sumSquared_error = []\n",
    "k_range = range(2,11)\n",
    "for k in k_range:\n",
    "    kmeans = KMeans(n_clusters = k , random_state=42)\n",
    "    kmeans.fit(scaled_features)\n",
    "    sumSquared_error.append(kmeans.inertia_)"
   ]
  },
  {
   "cell_type": "code",
   "execution_count": 15,
   "id": "b069d52f-eb0e-4cfb-b4cf-3fe6a42b7237",
   "metadata": {},
   "outputs": [
    {
     "data": {
      "image/png": "[encoded data removed]",
      "text/plain": [
       "<Figure size 800x500 with 1 Axes>"
      ]
     },
     "metadata": {},
     "output_type": "display_data"
    }
   ],
   "source": [
    "# Plotting the elbow curve for visualization\n",
    "# to find the optimal cluster\n",
    "plt.figure(figsize=(8,5))\n",
    "plt.plot(k_range,sumSquared_error,marker='o')\n",
    "plt.xlabel('NUmber of clusters')\n",
    "plt.ylabel('sumSquaredError')\n",
    "plt.title('Elbow method for the optimal cluster')\n",
    "plt.show()"
   ]
  },
  {
   "cell_type": "code",
   "execution_count": 27,
   "id": "bfeb9198-7f6f-46fe-8c28-097c301950db",
   "metadata": {},
   "outputs": [],
   "source": [
    "# 6 seems like the optimal k-point\n",
    "optimal_K = 6\n",
    "kmeans = KMeans(n_clusters=optimal_K, random_state= 42)\n",
    "kmeans_labels = kmeans.fit_predict(scaled_features)"
   ]
  },
  {
   "cell_type": "code",
   "execution_count": 28,
   "id": "0a1501c5-e4c5-4826-8d8b-330c98d080de",
   "metadata": {},
   "outputs": [
    {
     "data": {
      "image/png": "[encoded data removed]",
      "text/plain": [
       "<Figure size 800x500 with 2 Axes>"
      ]
     },
     "metadata": {},
     "output_type": "display_data"
    }
   ],
   "source": [
    "plt.figure(figsize=(8,5))\n",
    "plt.scatter(scaled_features[:,0],scaled_features[:,1],c = kmeans_labels,cmap='viridis')\n",
    "plt.xlabel('Purchases')\n",
    "plt.ylabel('Credit_limti')\n",
    "plt.title('K_means clustering')\n",
    "plt.colorbar(label='Cluster')\n",
    "plt.show()"
   ]
  },
  {
   "cell_type": "code",
   "execution_count": 29,
   "id": "abe47baf-363c-4064-9065-b99d0ffd813e",
   "metadata": {},
   "outputs": [
    {
     "name": "stdout",
     "output_type": "stream",
     "text": [
      "Silhouette Score for K=6: 0.5221604260867346\n"
     ]
    }
   ],
   "source": [
    "# Interpreting the results\n",
    "# Silhouette Score\n",
    "temp_score = silhouette_score(scaled_features, kmeans_labels)\n",
    "print(f\"Silhouette Score for K={optimal_K}: {temp_score}\")"
   ]
  },
  {
   "cell_type": "code",
   "execution_count": null,
   "id": "e5781c90-8630-4eba-9d67-2fe8919f8188",
   "metadata": {},
   "outputs": [],
   "source": [
    "# The highest silhouette score indicates the best optimal point to be 6 \n",
    "# Due to the tightly packed clusters in the scatterplot it suggests well separated groups\n",
    "# Silhouette Score close to 1 means well-defined clusters"
   ]
  }
 ],
 "metadata": {
  "kernelspec": {
   "display_name": "Python 3 (ipykernel)",
   "language": "python",
   "name": "python3"
  },
  "language_info": {
   "codemirror_mode": {
    "name": "ipython",
    "version": 3
   },
   "file_extension": ".py",
   "mimetype": "text/x-python",
   "name": "python",
   "nbconvert_exporter": "python",
   "pygments_lexer": "ipython3",
   "version": "3.12.5"
  }
 },
 "nbformat": 4,
 "nbformat_minor": 5
}
