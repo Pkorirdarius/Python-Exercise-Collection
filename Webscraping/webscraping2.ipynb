{
 "cells": [
  {
   "cell_type": "code",
   "execution_count": null,
   "id": "cd5830b1-b43a-4ee1-a8d8-33aeeaafb8d2",
   "metadata": {},
   "outputs": [],
   "source": [
    "# Import the requests library to enable HTTP requests\n",
    "import requests\n",
    "\n",
    "# Import BeautifulSoup from bs4 for parsing HTML and XML documents\n",
    "from bs4 import BeautifulSoup"
   ]
  },
  {
   "cell_type": "code",
   "execution_count": null,
   "id": "143413b3-2c5b-44b1-b173-77797915bd2b",
   "metadata": {},
   "outputs": [],
   "source": [
    "# Specify the link to the wikepidia page you want to extract data from\n",
    "link = \"https://en.wikipedia.org/wiki/Python_(programming_language)\""
   ]
  },
  {
   "cell_type": "code",
   "execution_count": null,
   "id": "98eb91bf-75a4-44b3-82c9-1f71eea9c0ae",
   "metadata": {},
   "outputs": [],
   "source": [
    "# Send a get requestto the specified URL and store the response in 'page'\n",
    "page = requests.get(link)\n",
    "\n",
    "# Print the status code of the response\n",
    "print(page.status_code)"
   ]
  },
  {
   "cell_type": "code",
   "execution_count": null,
   "id": "4075d8b3-f908-4718-9606-a84b4bce426c",
   "metadata": {},
   "outputs": [],
   "source": [
    "# status 200 : OK"
   ]
  },
  {
   "cell_type": "code",
   "execution_count": null,
   "id": "67fb42fd-4d01-4d65-9681-2232c3f44ba6",
   "metadata": {},
   "outputs": [],
   "source": [
    "# Parse the content of the page with BeautifulSoup using 'html.parser' as the parser\n",
    "soup = BeautifulSoup(page.content, 'html.parser')"
   ]
  },
  {
   "cell_type": "code",
   "execution_count": null,
   "id": "d937bde4-5ca1-4422-9243-74725ef2df51",
   "metadata": {},
   "outputs": [],
   "source": [
    "# Print the nicely formatted structure of the parsed page\n",
    "\n",
    "print(soup.prettify())"
   ]
  },
  {
   "cell_type": "code",
   "execution_count": 1,
   "id": "f5997b55-3010-4f98-9bd0-795b5acf8584",
   "metadata": {},
   "outputs": [
    {
     "name": "stdout",
     "output_type": "stream",
     "text": [
      "Collecting plotly==5.13.0\n",
      "  Downloading plotly-5.13.0-py2.py3-none-any.whl.metadata (7.0 kB)\n",
      "Collecting tenacity>=6.2.0 (from plotly==5.13.0)\n",
      "  Downloading tenacity-9.0.0-py3-none-any.whl.metadata (1.2 kB)\n",
      "Downloading plotly-5.13.0-py2.py3-none-any.whl (15.2 MB)\n",
      "   ---------------------------------------- 0.0/15.2 MB ? eta -:--:--\n",
      "   ---------------------------------------- 0.0/15.2 MB ? eta -:--:--\n",
      "    --------------------------------------- 0.3/15.2 MB ? eta -:--:--\n",
      "   ---- ----------------------------------- 1.6/15.2 MB 4.9 MB/s eta 0:00:03\n",
      "   ----------- ---------------------------- 4.2/15.2 MB 7.4 MB/s eta 0:00:02\n",
      "   ------------------ --------------------- 7.1/15.2 MB 9.3 MB/s eta 0:00:01\n",
      "   ------------------ --------------------- 7.1/15.2 MB 9.3 MB/s eta 0:00:01\n",
      "   --------------------------------- ------ 12.6/15.2 MB 10.6 MB/s eta 0:00:01\n",
      "   ------------------------------------- -- 14.2/15.2 MB 11.1 MB/s eta 0:00:01\n",
      "   ---------------------------------------- 15.2/15.2 MB 10.4 MB/s eta 0:00:00\n",
      "Downloading tenacity-9.0.0-py3-none-any.whl (28 kB)\n",
      "Installing collected packages: tenacity, plotly\n",
      "Successfully installed plotly-5.13.0 tenacity-9.0.0\n"
     ]
    }
   ],
   "source": [
    "!pip install plotly==5.13.0"
   ]
  },
  {
   "cell_type": "code",
   "execution_count": null,
   "id": "36687dcb-cb5f-47bd-8664-e6575b16210e",
   "metadata": {},
   "outputs": [],
   "source": []
  }
 ],
 "metadata": {
  "kernelspec": {
   "display_name": "Python 3 (ipykernel)",
   "language": "python",
   "name": "python3"
  },
  "language_info": {
   "codemirror_mode": {
    "name": "ipython",
    "version": 3
   },
   "file_extension": ".py",
   "mimetype": "text/x-python",
   "name": "python",
   "nbconvert_exporter": "python",
   "pygments_lexer": "ipython3",
   "version": "3.12.5"
  }
 },
 "nbformat": 4,
 "nbformat_minor": 5
}
