{
 "cells": [
  {
   "cell_type": "code",
   "execution_count": null,
   "id": "cd5830b1-b43a-4ee1-a8d8-33aeeaafb8d2",
   "metadata": {},
   "outputs": [],
   "source": [
    "# Import the requests library to enable HTTP requests\n",
    "import requests\n",
    "\n",
    "# Import BeautifulSoup from bs4 for parsing HTML and XML documents\n",
    "from bs4 import BeautifulSoup"
   ]
  },
  {
   "cell_type": "code",
   "execution_count": null,
   "id": "143413b3-2c5b-44b1-b173-77797915bd2b",
   "metadata": {},
   "outputs": [],
   "source": [
    "# Specify the link to the wikepidia page you want to extract data from\n",
    "link = \"https://en.wikipedia.org/wiki/Python_(programming_language)\""
   ]
  },
  {
   "cell_type": "code",
   "execution_count": null,
   "id": "98eb91bf-75a4-44b3-82c9-1f71eea9c0ae",
   "metadata": {},
   "outputs": [],
   "source": [
    "# Send a get requestto the specified URL and store the response in 'page'\n",
    "page = requests.get(link)\n",
    "\n",
    "# Print the status code of the response\n",
    "print(page.status_code)"
   ]
  },
  {
   "cell_type": "code",
   "execution_count": null,
   "id": "4075d8b3-f908-4718-9606-a84b4bce426c",
   "metadata": {},
   "outputs": [],
   "source": [
    "# status 200 : OK"
   ]
  },
  {
   "cell_type": "code",
   "execution_count": null,
   "id": "67fb42fd-4d01-4d65-9681-2232c3f44ba6",
   "metadata": {},
   "outputs": [],
   "source": [
    "# Parse the content of the page with BeautifulSoup using 'html.parser' as the parser\n",
    "soup = BeautifulSoup(page.content, 'html.parser')"
   ]
  },
  {
   "cell_type": "code",
   "execution_count": null,
   "id": "d937bde4-5ca1-4422-9243-74725ef2df51",
   "metadata": {},
   "outputs": [],
   "source": [
    "# Print the nicely formatted structure of the parsed page\n",
    "\n",
    "output = print(soup.prettify())"
   ]
  },
  {
   "cell_type": "code",
   "execution_count": null,
   "id": "36687dcb-cb5f-47bd-8664-e6575b16210e",
   "metadata": {},
   "outputs": [],
   "source": []
  }
 ],
 "metadata": {
  "kernelspec": {
   "display_name": "Python 3 (ipykernel)",
   "language": "python",
   "name": "python3"
  },
  "language_info": {
   "codemirror_mode": {
    "name": "ipython",
    "version": 3
   },
   "file_extension": ".py",
   "mimetype": "text/x-python",
   "name": "python",
   "nbconvert_exporter": "python",
   "pygments_lexer": "ipython3",
   "version": "3.12.5"
  }
 },
 "nbformat": 4,
 "nbformat_minor": 5
}
