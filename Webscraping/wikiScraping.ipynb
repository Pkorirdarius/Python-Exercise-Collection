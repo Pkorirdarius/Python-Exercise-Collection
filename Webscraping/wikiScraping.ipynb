{
 "cells": [
  {
   "cell_type": "code",
   "execution_count": 2,
   "id": "9094d657-e948-49dd-bb5c-bc2caad60c12",
   "metadata": {},
   "outputs": [],
   "source": [
    "# Importing relevant libraries\n",
    "import requests as req\n",
    "from bs4 import BeautifulSoup\n",
    "from urllib.parse import urljoin"
   ]
  },
  {
   "cell_type": "code",
   "execution_count": 3,
   "id": "3419b478-10c2-470d-9e1e-5075b08f90a6",
   "metadata": {},
   "outputs": [],
   "source": [
    "# Link to the wikipedia page with data required \n",
    "link = \"https://en.wikipedia.org/wiki/Mountain_pigeon\"\n",
    "\n",
    "# Connect to the HTML page via the link and get content from the HTML page\n",
    "response = req.get(link)\n",
    "if response.status_code != 200:\n",
    "    raise Exception(f\"Failed to load page: {response.status_code}\")\n",
    "soup = BeautifulSoup(response.text, 'html.parser')"
   ]
  },
  {
   "cell_type": "code",
   "execution_count": 4,
   "id": "24b289ac-fbce-4277-a2dd-db8a87f8eb16",
   "metadata": {},
   "outputs": [],
   "source": [
    "def get_article_titles(soup):\n",
    "    \"\"\"Finds all the article titles in the HTML page.\"\"\"\n",
    "    titles = [title.text.strip() for title in soup.find_all('h2')]\n",
    "    print(\"Article Titles:\")\n",
    "    for title in titles:\n",
    "        print(f\"- {title}\")\n",
    "    return titles"
   ]
  },
  {
   "cell_type": "code",
   "execution_count": 5,
   "id": "08665d1f-400a-450a-851f-01c20fa8b470",
   "metadata": {},
   "outputs": [],
   "source": [
    "def get_article_text(soup):\n",
    "    \"\"\"Extracts article text for each paragraph with their respective headings.\"\"\"\n",
    "    content = {}\n",
    "    main_content = soup.find('div', {'id': 'bodyContent'})\n",
    "\n",
    "    if main_content:\n",
    "        for section in main_content.find_all(['h2', 'h3']):\n",
    "            heading = section.text.strip()\n",
    "            paragraphs = []\n",
    "            for sibling in section.find_next_siblings():\n",
    "                if sibling.name in ['h2', 'h3']:\n",
    "                    break\n",
    "                if sibling.name == 'p':\n",
    "                    paragraphs.append(sibling.text.strip())\n",
    "            content[heading] = ' '.join(paragraphs)\n",
    "            print(f\"\\nHeading: {heading}\")\n",
    "            print(f\"Content: {content[heading][:100]}...\")  # Display first 100 characters\n",
    "    return content"
   ]
  },
  {
   "cell_type": "code",
   "execution_count": 6,
   "id": "47148442-48cb-4f1a-9799-abcbdcb86341",
   "metadata": {},
   "outputs": [],
   "source": [
    "def extract_wikipedia_links(soup):\n",
    "    \"\"\"Collects all links that redirect to another Wikipedia page.\"\"\"\n",
    "    links = set()\n",
    "    base_url = \"https://en.wikipedia.org\"\n",
    "    for a_tag in soup.find_all('a', href=True):\n",
    "        href = a_tag['href']\n",
    "        if href.startswith('/wiki/') and ':' not in href:  # Exclude special links like files\n",
    "            full_url = urljoin(base_url, href)\n",
    "            links.add(full_url)\n",
    "    print(\"\\nWikipedia Links:\")\n",
    "    for link in links:\n",
    "        print(f\"- {link}\")\n",
    "    return links"
   ]
  },
  {
   "cell_type": "code",
   "execution_count": 7,
   "id": "ac6a856a-365c-4a90-bfba-816380dabd81",
   "metadata": {},
   "outputs": [],
   "source": [
    "def scrape_wikipedia_page(soup):\n",
    "    \"\"\"Wraps all functions to scrape a Wikipedia page.\"\"\"\n",
    "    print(\"\\nScraping Wikipedia Page...\")\n",
    "    return {\n",
    "        \"title\": get_article_titles(soup),\n",
    "        \"text_by_heading\": get_article_text(soup),\n",
    "        \"wikipedia_links\": extract_wikipedia_links(soup)\n",
    "    }"
   ]
  },
  {
   "cell_type": "code",
   "execution_count": null,
   "id": "a4e6a415-65b8-4f60-9991-50e1c545f35a",
   "metadata": {},
   "outputs": [],
   "source": [
    "# Example usage\n",
    "scraped_data = scrape_wikipedia_page(soup)\n",
    "print(\"\\nScraped Data:\")\n",
    "print(scraped_data)"
   ]
  },
  {
   "cell_type": "code",
   "execution_count": null,
   "id": "0e49d4b7-93ca-4933-98e8-c5e3a993ea80",
   "metadata": {},
   "outputs": [],
   "source": []
  }
 ],
 "metadata": {
  "kernelspec": {
   "display_name": "Python 3 (ipykernel)",
   "language": "python",
   "name": "python3"
  },
  "language_info": {
   "codemirror_mode": {
    "name": "ipython",
    "version": 3
   },
   "file_extension": ".py",
   "mimetype": "text/x-python",
   "name": "python",
   "nbconvert_exporter": "python",
   "pygments_lexer": "ipython3",
   "version": "3.12.5"
  }
 },
 "nbformat": 4,
 "nbformat_minor": 5
}
