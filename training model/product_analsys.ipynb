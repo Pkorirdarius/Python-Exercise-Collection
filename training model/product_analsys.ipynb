{
 "cells": [
  {
   "cell_type": "code",
   "execution_count": null,
   "metadata": {},
   "outputs": [],
   "source": [
    "import requests\n",
    "from bs4 import BeautifulSoup\n",
    "import pandas as pd\n",
    "import numpy as np\n",
    "import plotly.express as px\n",
    "import plotly.graph_objects as go\n"
   ]
  },
  {
   "cell_type": "code",
   "execution_count": 1,
   "metadata": {},
   "outputs": [],
   "source": [
    "# web scrapping function\n",
    "def scrape_data(url):\n",
    "    \"\"\"Scrapes product data from the specified URL.\"\"\"\n",
    "    headers = {\"User-Agent\": \"Mozilla/5.0\"}\n",
    "    response = requests.get(url, headers=headers)\n",
    "    \n",
    "    if response.status_code == 200:\n",
    "        soup = BeautifulSoup(response.content, \"html.parser\")\n",
    "        \n",
    "        # Extract product data (update selectors based on the retailer's HTML structure)\n",
    "        products = []\n",
    "        for product in soup.select(\".product-item\"):  # Example selector\n",
    "            name = product.select_one(\".product-name\").get_text(strip=True) if product.select_one(\".product-name\") else None\n",
    "            category = product.select_one(\".product-category\").get_text(strip=True) if product.select_one(\".product-category\") else None\n",
    "            price = product.select_one(\".product-price\").get_text(strip=True) if product.select_one(\".product-price\") else None\n",
    "            availability = product.select_one(\".availability-status\").get_text(strip=True) if product.select_one(\".availability-status\") else None\n",
    "            promotion = product.select_one(\".promotion-details\").get_text(strip=True) if product.select_one(\".promotion-details\") else None\n",
    "            \n",
    "            products.append({\n",
    "                \"Name\": name,\n",
    "                \"Category\": category,\n",
    "                \"Price\": price,\n",
    "                \"Availability\": availability,\n",
    "                \"Promotion\": promotion\n",
    "            })\n",
    "        \n",
    "        return pd.DataFrame(products)\n",
    "    else:\n",
    "        print(f\"Failed to fetch data. Status code: {response.status_code}\")\n",
    "        return pd.DataFrame()"
   ]
  },
  {
   "cell_type": "code",
   "execution_count": null,
   "metadata": {},
   "outputs": [],
   "source": [
    "# URL passing the URL to the function\n",
    "url = \"\"\n",
    "data = scrape_data(url)"
   ]
  },
  {
   "cell_type": "code",
   "execution_count": null,
   "metadata": {},
   "outputs": [],
   "source": [
    "# Data cleaning function\n",
    "def clean_data(df):\n",
    "    \"\"\"Cleans and standardizes the scraped data.\"\"\"\n",
    "    # Drop rows with missing essential data\n",
    "    df.dropna(subset=[\"Name\", \"Price\", \"Category\"], inplace=True)\n",
    "    \n",
    "    # Standardize text fields\n",
    "    df[\"Name\"] = df[\"Name\"].str.strip().str.title()\n",
    "    df[\"Category\"] = df[\"Category\"].str.strip().str.title()\n",
    "    \n",
    "    # Convert price to numeric (assuming price includes a currency symbol)\n",
    "    df[\"Price\"] = df[\"Price\"].str.replace(r\"[^0-9.]\", \"\", regex=True).astype(float)\n",
    "    \n",
    "    return df\n",
    "\n",
    "cleaned_data = clean_data(data)"
   ]
  },
  {
   "cell_type": "code",
   "execution_count": null,
   "metadata": {},
   "outputs": [],
   "source": [
    "# data transformation function\n",
    "def transform_data(df):\n",
    "    \"\"\"Transforms data for hierarchical categorization.\"\"\"\n",
    "    # Split categories into hierarchical levels and concatenates them to the original DataFrame.\n",
    "    category_hierarchy = df[\"Category\"].str.split(\">\", expand=True)\n",
    "    category_hierarchy.columns = [\"Category_Level1\", \"Category_Level2\", \"Category_Level3\"]\n",
    "    \n",
    "    df = pd.concat([df, category_hierarchy], axis=1)\n",
    "    return df\n",
    "\n",
    "transformed_data = transform_data(cleaned_data)"
   ]
  },
  {
   "cell_type": "code",
   "execution_count": null,
   "metadata": {},
   "outputs": [],
   "source": [
    "# data analysis and visualization function\n",
    "def analyze_and_visualize(df):\n",
    "    \"\"\"Performs EDA and visualizes the data.\"\"\"\n",
    "    # Average pricing per category\n",
    "    avg_pricing = df.groupby(\"Category_Level1\", as_index= False)[\"Price\"].mean()\n",
    "    fig1 = px.bar(avg_pricing, x=\"Category_Level1\", y=\"Price\", title=\"Average Pricing by Category\")\n",
    "    fig1.show()\n",
    "\n",
    "    # Availability trends\n",
    "    availability_trends = df[\"Availability\"].value_counts().reset_index()\n",
    "    availability_trends.columns = [\"Availability\", \"Count\"]\n",
    "    fig2 = px.pie(availability_trends, names=\"Availability\", values=\"Count\", title=\"Product Availability Distribution\")\n",
    "    fig2.show()\n",
    "\n",
    "    # Promotional patterns\n",
    "    promotion_counts = df[\"Promotion\"].value_counts().reset_index()\n",
    "    promotion_counts.columns = [\"Promotion\", \"Count\"]\n",
    "    fig3 = px.bar(promotion_counts, x=\"Promotion\", y=\"Count\", title=\"Promotional Pattern Insights\")\n",
    "    fig3.show()\n",
    "# calling the function\n",
    "analyze_and_visualize(transformed_data)"
   ]
  }
 ],
 "metadata": {
  "kernelspec": {
   "display_name": "Python 3",
   "language": "python",
   "name": "python3"
  },
  "language_info": {
   "codemirror_mode": {
    "name": "ipython",
    "version": 3
   },
   "file_extension": ".py",
   "mimetype": "text/x-python",
   "name": "python",
   "nbconvert_exporter": "python",
   "pygments_lexer": "ipython3",
   "version": "3.10.5"
  }
 },
 "nbformat": 4,
 "nbformat_minor": 4
}
