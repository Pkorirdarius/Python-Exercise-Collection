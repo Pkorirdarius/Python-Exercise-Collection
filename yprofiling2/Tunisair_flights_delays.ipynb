{
 "cells": [
  {
   "cell_type": "code",
   "execution_count": 1,
   "id": "658fc3af-d278-4b99-8bb3-32b5773c24c2",
   "metadata": {},
   "outputs": [],
   "source": [
    "# import the relevant libraries\n",
    "import pandas as pd\n",
    "from ydata_profiling import ProfileReport"
   ]
  },
  {
   "cell_type": "code",
   "execution_count": 2,
   "id": "82502a57-f5bb-4f0c-a21c-f5bc7b78a3e5",
   "metadata": {},
   "outputs": [],
   "source": [
    "# select the filepath\n",
    "file_path = './Tunisair_flights_dataset.csv'\n",
    "# Load the dataset to pandas dataframe\n",
    "df = pd.read_csv(file_path , low_memory=False)\n",
    "# to display all columns in the dataset\n",
    "pd.set_option('display.max_columns',200)"
   ]
  },
  {
   "cell_type": "code",
   "execution_count": 3,
   "id": "a308820e-4dd8-4a74-a991-a278d172ff42",
   "metadata": {},
   "outputs": [
    {
     "data": {
      "text/html": [
       "<div>\n",
       "<style scoped>\n",
       "    .dataframe tbody tr th:only-of-type {\n",
       "        vertical-align: middle;\n",
       "    }\n",
       "\n",
       "    .dataframe tbody tr th {\n",
       "        vertical-align: top;\n",
       "    }\n",
       "\n",
       "    .dataframe thead th {\n",
       "        text-align: right;\n",
       "    }\n",
       "</style>\n",
       "<table border=\"1\" class=\"dataframe\">\n",
       "  <thead>\n",
       "    <tr style=\"text-align: right;\">\n",
       "      <th></th>\n",
       "      <th>Filght_date</th>\n",
       "      <th>Flight_ID</th>\n",
       "      <th>Departure point</th>\n",
       "      <th>Arrival point</th>\n",
       "      <th>Scheduled_departure_time</th>\n",
       "      <th>Scheduled_arrival_time</th>\n",
       "      <th>STATUS</th>\n",
       "      <th>Aircraft_code</th>\n",
       "      <th>Arrival delay</th>\n",
       "    </tr>\n",
       "  </thead>\n",
       "  <tbody>\n",
       "    <tr>\n",
       "      <th>0</th>\n",
       "      <td>2016-01-03</td>\n",
       "      <td>TU 0712</td>\n",
       "      <td>CMN</td>\n",
       "      <td>TUN</td>\n",
       "      <td>2016-01-03 10:30:00</td>\n",
       "      <td>2016-01-03 12.55.00</td>\n",
       "      <td>ATA</td>\n",
       "      <td>TU 32AIMN</td>\n",
       "      <td>260.0</td>\n",
       "    </tr>\n",
       "    <tr>\n",
       "      <th>1</th>\n",
       "      <td>2016-01-13</td>\n",
       "      <td>TU 0757</td>\n",
       "      <td>MXP</td>\n",
       "      <td>TUN</td>\n",
       "      <td>2016-01-13 15:05:00</td>\n",
       "      <td>2016-01-13 16.55.00</td>\n",
       "      <td>ATA</td>\n",
       "      <td>TU 31BIMO</td>\n",
       "      <td>20.0</td>\n",
       "    </tr>\n",
       "    <tr>\n",
       "      <th>2</th>\n",
       "      <td>2016-01-16</td>\n",
       "      <td>TU 0214</td>\n",
       "      <td>TUN</td>\n",
       "      <td>IST</td>\n",
       "      <td>2016-01-16 04:10:00</td>\n",
       "      <td>2016-01-16 06.45.00</td>\n",
       "      <td>ATA</td>\n",
       "      <td>TU 32AIMN</td>\n",
       "      <td>0.0</td>\n",
       "    </tr>\n",
       "    <tr>\n",
       "      <th>3</th>\n",
       "      <td>2016-01-17</td>\n",
       "      <td>TU 0480</td>\n",
       "      <td>DJE</td>\n",
       "      <td>NTE</td>\n",
       "      <td>2016-01-17 14:10:00</td>\n",
       "      <td>2016-01-17 17.00.00</td>\n",
       "      <td>ATA</td>\n",
       "      <td>TU 736IOK</td>\n",
       "      <td>0.0</td>\n",
       "    </tr>\n",
       "    <tr>\n",
       "      <th>4</th>\n",
       "      <td>2016-01-17</td>\n",
       "      <td>TU 0338</td>\n",
       "      <td>TUN</td>\n",
       "      <td>ALG</td>\n",
       "      <td>2016-01-17 14:30:00</td>\n",
       "      <td>2016-01-17 15.50.00</td>\n",
       "      <td>ATA</td>\n",
       "      <td>TU 320IMU</td>\n",
       "      <td>22.0</td>\n",
       "    </tr>\n",
       "  </tbody>\n",
       "</table>\n",
       "</div>"
      ],
      "text/plain": [
       "  Filght_date Flight_ID Departure point Arrival point  \\\n",
       "0  2016-01-03  TU 0712              CMN           TUN   \n",
       "1  2016-01-13  TU 0757              MXP           TUN   \n",
       "2  2016-01-16  TU 0214              TUN           IST   \n",
       "3  2016-01-17  TU 0480              DJE           NTE   \n",
       "4  2016-01-17  TU 0338              TUN           ALG   \n",
       "\n",
       "  Scheduled_departure_time Scheduled_arrival_time STATUS Aircraft_code  \\\n",
       "0      2016-01-03 10:30:00    2016-01-03 12.55.00    ATA     TU 32AIMN   \n",
       "1      2016-01-13 15:05:00    2016-01-13 16.55.00    ATA     TU 31BIMO   \n",
       "2      2016-01-16 04:10:00    2016-01-16 06.45.00    ATA     TU 32AIMN   \n",
       "3      2016-01-17 14:10:00    2016-01-17 17.00.00    ATA     TU 736IOK   \n",
       "4      2016-01-17 14:30:00    2016-01-17 15.50.00    ATA     TU 320IMU   \n",
       "\n",
       "   Arrival delay  \n",
       "0          260.0  \n",
       "1           20.0  \n",
       "2            0.0  \n",
       "3            0.0  \n",
       "4           22.0  "
      ]
     },
     "execution_count": 3,
     "metadata": {},
     "output_type": "execute_result"
    }
   ],
   "source": [
    "# Exploration of the datase\n",
    "# getting the first 5 values of the dataset\n",
    "df.head()"
   ]
  },
  {
   "cell_type": "code",
   "execution_count": 4,
   "id": "d1a09507-8637-498f-9261-23e5741deb5c",
   "metadata": {},
   "outputs": [
    {
     "name": "stdout",
     "output_type": "stream",
     "text": [
      "<class 'pandas.core.frame.DataFrame'>\n",
      "RangeIndex: 107833 entries, 0 to 107832\n",
      "Data columns (total 9 columns):\n",
      " #   Column                    Non-Null Count   Dtype  \n",
      "---  ------                    --------------   -----  \n",
      " 0   Filght_date               107833 non-null  object \n",
      " 1   Flight_ID                 107833 non-null  object \n",
      " 2   Departure point           107833 non-null  object \n",
      " 3   Arrival point             107833 non-null  object \n",
      " 4   Scheduled_departure_time  107833 non-null  object \n",
      " 5   Scheduled_arrival_time    107833 non-null  object \n",
      " 6   STATUS                    107833 non-null  object \n",
      " 7   Aircraft_code             107833 non-null  object \n",
      " 8   Arrival delay             107833 non-null  float64\n",
      "dtypes: float64(1), object(8)\n",
      "memory usage: 7.4+ MB\n"
     ]
    }
   ],
   "source": [
    "# get the general info in the dataset\n",
    "df.info()"
   ]
  },
  {
   "cell_type": "code",
   "execution_count": 5,
   "id": "93ac943a-7a3e-4881-bc46-7209a5109975",
   "metadata": {},
   "outputs": [],
   "source": [
    "# renaming column filight_date to flight_date \n",
    "df = df.rename(columns ={'Filght_date':'Flight_date'})"
   ]
  },
  {
   "cell_type": "code",
   "execution_count": 11,
   "id": "752e8b50-73ce-4c0e-86c0-eb1d4af903b5",
   "metadata": {},
   "outputs": [
    {
     "data": {
      "text/plain": [
       "Index(['Flight_date', 'Flight_ID', 'Departure point', 'Arrival point',\n",
       "       'Scheduled_departure_time', 'Scheduled_arrival_time', 'STATUS',\n",
       "       'Aircraft_code', 'Arrival delay'],\n",
       "      dtype='object')"
      ]
     },
     "execution_count": 11,
     "metadata": {},
     "output_type": "execute_result"
    }
   ],
   "source": [
    "# display columns \n",
    "df.columns"
   ]
  },
  {
   "cell_type": "code",
   "execution_count": 8,
   "id": "f1511bcb-5f7e-403b-85fc-99346eee4550",
   "metadata": {},
   "outputs": [
    {
     "data": {
      "text/html": [
       "<div>\n",
       "<style scoped>\n",
       "    .dataframe tbody tr th:only-of-type {\n",
       "        vertical-align: middle;\n",
       "    }\n",
       "\n",
       "    .dataframe tbody tr th {\n",
       "        vertical-align: top;\n",
       "    }\n",
       "\n",
       "    .dataframe thead th {\n",
       "        text-align: right;\n",
       "    }\n",
       "</style>\n",
       "<table border=\"1\" class=\"dataframe\">\n",
       "  <thead>\n",
       "    <tr style=\"text-align: right;\">\n",
       "      <th></th>\n",
       "      <th>Flight_date</th>\n",
       "      <th>Flight_ID</th>\n",
       "      <th>Departure point</th>\n",
       "      <th>Arrival point</th>\n",
       "      <th>Scheduled_departure_time</th>\n",
       "      <th>Scheduled_arrival_time</th>\n",
       "      <th>STATUS</th>\n",
       "      <th>Aircraft_code</th>\n",
       "      <th>Arrival delay</th>\n",
       "    </tr>\n",
       "  </thead>\n",
       "  <tbody>\n",
       "  </tbody>\n",
       "</table>\n",
       "</div>"
      ],
      "text/plain": [
       "Empty DataFrame\n",
       "Columns: [Flight_date, Flight_ID, Departure point, Arrival point, Scheduled_departure_time, Scheduled_arrival_time, STATUS, Aircraft_code, Arrival delay]\n",
       "Index: []"
      ]
     },
     "execution_count": 8,
     "metadata": {},
     "output_type": "execute_result"
    }
   ],
   "source": [
    "# checking for duplicate values in the dataset = none\n",
    "df.loc[df.duplicated()]"
   ]
  },
  {
   "cell_type": "code",
   "execution_count": 9,
   "id": "ae35c0dc-6e5a-46d9-af0e-4c1b4f446027",
   "metadata": {},
   "outputs": [
    {
     "data": {
      "text/plain": [
       "Flight_date                 0\n",
       "Flight_ID                   0\n",
       "Departure point             0\n",
       "Arrival point               0\n",
       "Scheduled_departure_time    0\n",
       "Scheduled_arrival_time      0\n",
       "STATUS                      0\n",
       "Aircraft_code               0\n",
       "Arrival delay               0\n",
       "dtype: int64"
      ]
     },
     "execution_count": 9,
     "metadata": {},
     "output_type": "execute_result"
    }
   ],
   "source": [
    "# checking for null values int the dataset\n",
    "df.isnull().sum()"
   ]
  },
  {
   "cell_type": "code",
   "execution_count": 10,
   "id": "9f82e55a-f702-4992-b1e0-3a419565d75f",
   "metadata": {},
   "outputs": [
    {
     "data": {
      "text/html": [
       "<div>\n",
       "<style scoped>\n",
       "    .dataframe tbody tr th:only-of-type {\n",
       "        vertical-align: middle;\n",
       "    }\n",
       "\n",
       "    .dataframe tbody tr th {\n",
       "        vertical-align: top;\n",
       "    }\n",
       "\n",
       "    .dataframe thead th {\n",
       "        text-align: right;\n",
       "    }\n",
       "</style>\n",
       "<table border=\"1\" class=\"dataframe\">\n",
       "  <thead>\n",
       "    <tr style=\"text-align: right;\">\n",
       "      <th></th>\n",
       "      <th>Arrival delay</th>\n",
       "    </tr>\n",
       "  </thead>\n",
       "  <tbody>\n",
       "    <tr>\n",
       "      <th>count</th>\n",
       "      <td>107833.000000</td>\n",
       "    </tr>\n",
       "    <tr>\n",
       "      <th>mean</th>\n",
       "      <td>48.733013</td>\n",
       "    </tr>\n",
       "    <tr>\n",
       "      <th>std</th>\n",
       "      <td>117.135562</td>\n",
       "    </tr>\n",
       "    <tr>\n",
       "      <th>min</th>\n",
       "      <td>0.000000</td>\n",
       "    </tr>\n",
       "    <tr>\n",
       "      <th>25%</th>\n",
       "      <td>0.000000</td>\n",
       "    </tr>\n",
       "    <tr>\n",
       "      <th>50%</th>\n",
       "      <td>14.000000</td>\n",
       "    </tr>\n",
       "    <tr>\n",
       "      <th>75%</th>\n",
       "      <td>43.000000</td>\n",
       "    </tr>\n",
       "    <tr>\n",
       "      <th>max</th>\n",
       "      <td>3451.000000</td>\n",
       "    </tr>\n",
       "  </tbody>\n",
       "</table>\n",
       "</div>"
      ],
      "text/plain": [
       "       Arrival delay\n",
       "count  107833.000000\n",
       "mean       48.733013\n",
       "std       117.135562\n",
       "min         0.000000\n",
       "25%         0.000000\n",
       "50%        14.000000\n",
       "75%        43.000000\n",
       "max      3451.000000"
      ]
     },
     "execution_count": 10,
     "metadata": {},
     "output_type": "execute_result"
    }
   ],
   "source": [
    "# general statistics  of numerical values in the dataset\n",
    "df.describe()"
   ]
  },
  {
   "cell_type": "code",
   "execution_count": 13,
   "id": "452c028f-9af2-47f0-b48e-5297b1c0f548",
   "metadata": {},
   "outputs": [
    {
     "data": {
      "application/vnd.jupyter.widget-view+json": {
       "model_id": "9e8c236d073147b9a9f5533f7ff801fa",
       "version_major": 2,
       "version_minor": 0
      },
      "text/plain": [
       "Summarize dataset:   0%|          | 0/5 [00:00<?, ?it/s]"
      ]
     },
     "metadata": {},
     "output_type": "display_data"
    },
    {
     "data": {
      "application/vnd.jupyter.widget-view+json": {
       "model_id": "43d381b14ac546498c68971970153fab",
       "version_major": 2,
       "version_minor": 0
      },
      "text/plain": [
       "Generate report structure:   0%|          | 0/1 [00:00<?, ?it/s]"
      ]
     },
     "metadata": {},
     "output_type": "display_data"
    },
    {
     "data": {
      "application/vnd.jupyter.widget-view+json": {
       "model_id": "98c53d59770c4c0c94d934456bd79bad",
       "version_major": 2,
       "version_minor": 0
      },
      "text/plain": [
       "Render HTML:   0%|          | 0/1 [00:00<?, ?it/s]"
      ]
     },
     "metadata": {},
     "output_type": "display_data"
    },
    {
     "data": {
      "application/vnd.jupyter.widget-view+json": {
       "model_id": "6b7f241963844b4a9aadac85daeafaa6",
       "version_major": 2,
       "version_minor": 0
      },
      "text/plain": [
       "Export report to file:   0%|          | 0/1 [00:00<?, ?it/s]"
      ]
     },
     "metadata": {},
     "output_type": "display_data"
    },
    {
     "name": "stdout",
     "output_type": "stream",
     "text": [
      "\n",
      "Profiling report saved to Tunisair_flight_delays_report.html\n"
     ]
    }
   ],
   "source": [
    "# generating a profiling report\n",
    "profile = ProfileReport(df, title='Tunisair Flight Delays Analysis', explorative =True)\n",
    "# specify porfile_path\n",
    "profile_path ='Tunisair_flight_delays_report.html'\n",
    "profile.to_file(profile_path)\n",
    "print(f\"\\nProfiling report saved to {profile_path}\")"
   ]
  },
  {
   "cell_type": "code",
   "execution_count": 14,
   "id": "21835bce-b803-4834-ae52-ccbd4a6c5945",
   "metadata": {},
   "outputs": [],
   "source": [
    "# There are no missing values in the dataset\n",
    "# The only corelation in the dataset is betweeen the status and arrival delay,the correlation is positive, \n",
    "# a high percentage of the filghts are ATA(Arrival on time ) thus the arrival delay is a significant predictor of the flight Status.\n",
    "# There is a high number of zeros in the arrival delay column indicating most flights arrive on time"
   ]
  },
  {
   "cell_type": "markdown",
   "id": "bb5ffb4a-efc2-408c-b7d4-61ff98a5a483",
   "metadata": {},
   "source": [
    "# Summary\n",
    "<p>The dataset includes columns related to flight details, status, and delays.\n",
    "Key variables likely include:\n",
    "Status: Categorical data indicating whether a flight is \" Arrival On Time,\" \"Delayed,\" or \"Cancelled.\"\n",
    "Arrival Delay: Numerical data indicating delay duration in minutes.\n",
    "Other attributes: Information about departure times, routes </p>\n",
    "\n",
    "* High correlation between variables like Departure Delay and Arrival Delay suggests causality.\n",
    "* Preliminary findings indicate that \"Delayed\" statuses strongly correlate with positive values of Arrival Delay.\n",
    " <p>Box plots and statistical measures highlight outliers in Arrival Delay\n",
    "Certain times of day, routes and operational factors likely influence delays\n",
    " </p>\n",
    " \n",
    "* Most flights are \"On Time,\" this imbalance might impact predictive models.\n",
    " \n",
    "**Recommendations**\n",
    "  * Provide, aircraft types and crew schedules to show patterns contributing to delays or cancellations.\n",
    "  * Create a new variables : Delay Category to group delays into ranges."
   ]
  },
  {
   "cell_type": "code",
   "execution_count": null,
   "id": "cd358be0-0141-4296-8ecf-b1b6206d778f",
   "metadata": {},
   "outputs": [],
   "source": []
  }
 ],
 "metadata": {
  "kernelspec": {
   "display_name": "Python 3 (ipykernel)",
   "language": "python",
   "name": "python3"
  },
  "language_info": {
   "codemirror_mode": {
    "name": "ipython",
    "version": 3
   },
   "file_extension": ".py",
   "mimetype": "text/x-python",
   "name": "python",
   "nbconvert_exporter": "python",
   "pygments_lexer": "ipython3",
   "version": "3.12.5"
  }
 },
 "nbformat": 4,
 "nbformat_minor": 5
}
